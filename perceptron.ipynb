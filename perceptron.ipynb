{
  "nbformat": 4,
  "nbformat_minor": 0,
  "metadata": {
    "colab": {
      "name": "perceptron.ipynb",
      "provenance": [],
      "authorship_tag": "ABX9TyPi/g/6w+SoRPlDCeL1ZzcG",
      "include_colab_link": true
    },
    "kernelspec": {
      "name": "python3",
      "display_name": "Python 3"
    }
  },
  "cells": [
    {
      "cell_type": "markdown",
      "metadata": {
        "id": "view-in-github",
        "colab_type": "text"
      },
      "source": [
        "<a href=\"https://colab.research.google.com/github/itimes-digital/Bootcamp-Analista-de-Machine-Learning-IGTI/blob/master/perceptron.ipynb\" target=\"_parent\"><img src=\"https://colab.research.google.com/assets/colab-badge.svg\" alt=\"Open In Colab\"/></a>"
      ]
    },
    {
      "cell_type": "markdown",
      "metadata": {
        "id": "sbh0bVEcZtA1",
        "colab_type": "text"
      },
      "source": [
        "Vamos rodar o programa em Python 3.x para treinar uma rede Perceptron. \n",
        "\n",
        "A ideia é ter uma rede que responda às entradas para:\n",
        "\n",
        "* quadrupede = 1\n",
        "* bipede = -1\n",
        "\n",
        "Valores para treinamento da rede:\n",
        "\n",
        "* cao = [-1,-1,1,1] | resposta = 1\n",
        "* gato = [1,1,1,1] | resposta = 1\n",
        "* cavalo = [1,1,-1,1] | resposta = 1\n",
        "* homem = [-1,-1,-1,1] | resposta = -1"
      ]
    },
    {
      "cell_type": "code",
      "metadata": {
        "id": "Y9L5_gptZWhJ",
        "colab_type": "code",
        "colab": {
          "base_uri": "https://localhost:8080/",
          "height": 34
        },
        "outputId": "9b42f55c-4a53-4c03-9bac-bd0798664288"
      },
      "source": [
        "w =[0,0,0,0]\n",
        "x = [[-1,-1,1,1],\n",
        "     [1,1,1,1],\n",
        "     [1,1,-1,1],\n",
        "     [-1,-1,-1,-1]]\n",
        "\n",
        "t = [1,1,1,-1]\n",
        "\n",
        "b = 0\n",
        "\n",
        "y = 0\n",
        "\n",
        "max_int = 10\n",
        "\n",
        "taxa_aprendizado = 1\n",
        "\n",
        "soma = 0\n",
        "\n",
        "threshold = 1\n",
        "\n",
        "animal = \"\"\n",
        "\n",
        "resposta = \"\"\n",
        "\n",
        "d = {'-1,-1,1,1' : 'cao',\n",
        "     '1,1,1,1': 'gato',\n",
        "     '1,1,-1,1': 'cavalo',\n",
        "     '-1,-1,-1,1': 'homem'}\n",
        "\n",
        "print(\"Treinando\")"
      ],
      "execution_count": 14,
      "outputs": [
        {
          "output_type": "stream",
          "text": [
            "Treinando\n"
          ],
          "name": "stdout"
        }
      ]
    },
    {
      "cell_type": "code",
      "metadata": {
        "id": "ZCSuuMEla-eD",
        "colab_type": "code",
        "colab": {}
      },
      "source": [
        "def listToString(list):\n",
        "  s = str(list).strip('[]')\n",
        "  s = s.replace(' ', '')\n",
        "  return s"
      ],
      "execution_count": 15,
      "outputs": []
    },
    {
      "cell_type": "code",
      "metadata": {
        "id": "Kjx95wRWbNMN",
        "colab_type": "code",
        "colab": {
          "base_uri": "https://localhost:8080/",
          "height": 442
        },
        "outputId": "ddfae70f-f5c9-40cb-bddf-4f90801b2ae5"
      },
      "source": [
        "for k in range(1, max_int):\n",
        "  acertos = 0\n",
        "  print('Interacao ', k, '-------------------------')\n",
        "  \n",
        "  for i in range(0,len(x)):\n",
        "    soma = 0\n",
        "\n",
        "    if (listToString(x[i])) in d:\n",
        "      animal = d[listToString(x[i])]\n",
        "    else:\n",
        "      animal = ''\n",
        "\n",
        "    for j in range(0,len(x[i])):\n",
        "      soma += x[i][j] * w[j]\n",
        "\n",
        "    y_in = b + soma\n",
        "\n",
        "    if y_in > threshold:\n",
        "      y = 1\n",
        "    elif y_in >= -threshold and y_in <= threshold:\n",
        "      y = 0\n",
        "    else:\n",
        "      y = -1\n",
        "    \n",
        "    if y == t[i]:\n",
        "      acertos += 1\n",
        "      resposta = 'acerto'\n",
        "    else:\n",
        "      for j in range(0, len(w)):\n",
        "        w[j] = w[j] + (taxa_aprendizado * t[i] * x[i][j])\n",
        "        print ('Novo peso ', j, ' ', w[j])\n",
        "      \n",
        "      b = t[i] - y\n",
        "      resposta = 'Falha - Peso atualizado Bias = ' + str(b)\n",
        "\n",
        "    if y == 1:\n",
        "      print(animal, ' = quadrupede = ', resposta)\n",
        "    elif y == 0:\n",
        "      print(animal, ' = padrao nao identificado = ', resposta)\n",
        "    elif y == -1:\n",
        "      if animal == '':\n",
        "        print('homem = bipede = ', resposta)\n",
        "      else:\n",
        "        print(animal, ' = bipede = ', resposta)\n",
        "\n",
        "  if acertos == len(x):\n",
        "    print('Funcionalidade aprendida com ', k, ' interacoes')\n",
        "    break;\n",
        "  print('')\n",
        "print('Finalizado...')\n"
      ],
      "execution_count": 16,
      "outputs": [
        {
          "output_type": "stream",
          "text": [
            "Interacao  1 -------------------------\n",
            "Novo peso  0   -1\n",
            "Novo peso  1   -1\n",
            "Novo peso  2   1\n",
            "Novo peso  3   1\n",
            "cao  = padrao nao identificado =  Falha - Peso atualizado Bias = 1\n",
            "Novo peso  0   0\n",
            "Novo peso  1   0\n",
            "Novo peso  2   2\n",
            "Novo peso  3   2\n",
            "gato  = padrao nao identificado =  Falha - Peso atualizado Bias = 1\n",
            "Novo peso  0   1\n",
            "Novo peso  1   1\n",
            "Novo peso  2   1\n",
            "Novo peso  3   3\n",
            "cavalo  = padrao nao identificado =  Falha - Peso atualizado Bias = 1\n",
            "homem = bipede =  acerto\n",
            "\n",
            "Interacao  2 -------------------------\n",
            "cao  = quadrupede =  acerto\n",
            "gato  = quadrupede =  acerto\n",
            "cavalo  = quadrupede =  acerto\n",
            "homem = bipede =  acerto\n",
            "Funcionalidade aprendida com  2  interacoes\n",
            "Finalizado...\n"
          ],
          "name": "stdout"
        }
      ]
    },
    {
      "cell_type": "code",
      "metadata": {
        "id": "v3BQturreZgg",
        "colab_type": "code",
        "colab": {}
      },
      "source": [
        ""
      ],
      "execution_count": null,
      "outputs": []
    }
  ]
}