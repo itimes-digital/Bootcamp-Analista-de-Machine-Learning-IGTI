{
  "nbformat": 4,
  "nbformat_minor": 0,
  "metadata": {
    "colab": {
      "name": "desafio_modulo_03.ipynb",
      "provenance": [],
      "authorship_tag": "ABX9TyM6Rkdmg1Q+I7JxW1rF7/tg",
      "include_colab_link": true
    },
    "kernelspec": {
      "name": "python3",
      "display_name": "Python 3"
    }
  },
  "cells": [
    {
      "cell_type": "markdown",
      "metadata": {
        "id": "view-in-github",
        "colab_type": "text"
      },
      "source": [
        "<a href=\"https://colab.research.google.com/github/itimes-digital/Bootcamp-Analista-de-Machine-Learning-IGTI/blob/master/desafio_modulo_03.ipynb\" target=\"_parent\"><img src=\"https://colab.research.google.com/assets/colab-badge.svg\" alt=\"Open In Colab\"/></a>"
      ]
    },
    {
      "cell_type": "code",
      "metadata": {
        "id": "kwqq3ke47nLZ",
        "colab_type": "code",
        "colab": {}
      },
      "source": [
        "import pandas as pd\n",
        "import numpy as np\n",
        "from random import randrange"
      ],
      "execution_count": 22,
      "outputs": []
    },
    {
      "cell_type": "code",
      "metadata": {
        "id": "A5kPzGTq_DTy",
        "colab_type": "code",
        "colab": {
          "base_uri": "https://localhost:8080/",
          "height": 34
        },
        "outputId": "9e94510e-88ec-4348-b9c6-3af0a5913c01"
      },
      "source": [
        "!pip install python-mnist"
      ],
      "execution_count": 18,
      "outputs": [
        {
          "output_type": "stream",
          "text": [
            "Requirement already satisfied: python-mnist in /usr/local/lib/python3.6/dist-packages (0.7)\n"
          ],
          "name": "stdout"
        }
      ]
    },
    {
      "cell_type": "code",
      "metadata": {
        "id": "B7OAdLU_-l-p",
        "colab_type": "code",
        "colab": {}
      },
      "source": [
        "from mnist import MNIST"
      ],
      "execution_count": 19,
      "outputs": []
    },
    {
      "cell_type": "code",
      "metadata": {
        "id": "R9YSItSa8TGX",
        "colab_type": "code",
        "colab": {}
      },
      "source": [
        "mndata = MNIST('samples')\n",
        "\n",
        "images_train, labels_train = mndata.load_training()"
      ],
      "execution_count": 36,
      "outputs": []
    },
    {
      "cell_type": "code",
      "metadata": {
        "id": "sgpn6lGp-jvO",
        "colab_type": "code",
        "colab": {
          "base_uri": "https://localhost:8080/",
          "height": 510
        },
        "outputId": "bd2c3dd3-4b21-4160-a6ef-a4ab1ea72108"
      },
      "source": [
        "index = randrange(0, len(images_train))  # choose an index ;-)\n",
        "print(mndata.display(images_train[index]))"
      ],
      "execution_count": 40,
      "outputs": [
        {
          "output_type": "stream",
          "text": [
            "\n",
            "............................\n",
            "............................\n",
            "............................\n",
            "............................\n",
            "............................\n",
            ".........@...@..............\n",
            "...............@............\n",
            ".................@..........\n",
            ".................@..........\n",
            ".................@..........\n",
            "................@...........\n",
            "...............@............\n",
            ".............@..............\n",
            "............@@..............\n",
            "..............@.............\n",
            ".................@..........\n",
            "..................@.........\n",
            "...................@........\n",
            "...................@........\n",
            "...................@........\n",
            "..................@.........\n",
            "................@@..........\n",
            ".......@....@@@.............\n",
            "..........@.................\n",
            "............................\n",
            "............................\n",
            "............................\n",
            "............................\n"
          ],
          "name": "stdout"
        }
      ]
    },
    {
      "cell_type": "code",
      "metadata": {
        "id": "SODBRhwGAA1a",
        "colab_type": "code",
        "colab": {}
      },
      "source": [
        "images_test, labels_test = mndata.load_testing()"
      ],
      "execution_count": 38,
      "outputs": []
    },
    {
      "cell_type": "code",
      "metadata": {
        "id": "KY0KJWCdACQ5",
        "colab_type": "code",
        "colab": {
          "base_uri": "https://localhost:8080/",
          "height": 510
        },
        "outputId": "41d2b5cc-58df-480a-bf2b-92cdcfd04e52"
      },
      "source": [
        "index = randrange(0, len(images_test))  # choose an index ;-)\n",
        "print(mndata.display(images_test[index]))"
      ],
      "execution_count": 27,
      "outputs": [
        {
          "output_type": "stream",
          "text": [
            "\n",
            "............................\n",
            "............................\n",
            "............................\n",
            "............................\n",
            "............................\n",
            "............................\n",
            "...................@@.......\n",
            "................@@@@@@......\n",
            "...........@@@@@@@@@@@......\n",
            "..........@@@@@@@...@@......\n",
            ".........@@@@@......@.......\n",
            "........@@@@....@@@.........\n",
            ".......@@@@.....@@@.........\n",
            ".......@@@@..@@@@@@.........\n",
            ".......@@@@@@@@@@@@.........\n",
            "........@@@@@@@@@@..........\n",
            ".........@@@@@@@@@..........\n",
            "...............@@@..........\n",
            "..............@@@@..........\n",
            "..............@@@...........\n",
            "..............@@@...........\n",
            ".............@@@@...........\n",
            "............@@@@............\n",
            "............@@@@............\n",
            "............@@@.............\n",
            "............................\n",
            "............................\n",
            "............................\n"
          ],
          "name": "stdout"
        }
      ]
    },
    {
      "cell_type": "markdown",
      "metadata": {
        "id": "nl4HBOJIEKOJ",
        "colab_type": "text"
      },
      "source": [
        "SVM\n",
        "\n",
        "Virtual SVM, deg-9 poly, 2-pixel jittered\n",
        "\n",
        "deskewing"
      ]
    },
    {
      "cell_type": "code",
      "metadata": {
        "id": "m8pE5NCIDFHH",
        "colab_type": "code",
        "colab": {}
      },
      "source": [
        "from sklearn.svm import SVC\n",
        "svm = SVC()\n",
        "svm.fit(images_train, labels_train)\n",
        "previsoes = svm.predict(images_test)"
      ],
      "execution_count": 31,
      "outputs": []
    },
    {
      "cell_type": "code",
      "metadata": {
        "id": "g9gPY8myLbSz",
        "colab_type": "code",
        "colab": {}
      },
      "source": [
        ""
      ],
      "execution_count": null,
      "outputs": []
    }
  ]
}