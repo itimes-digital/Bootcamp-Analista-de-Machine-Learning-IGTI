{
  "nbformat": 4,
  "nbformat_minor": 0,
  "metadata": {
    "colab": {
      "name": "trabalho_pratico_modulo_03.ipynb",
      "provenance": [],
      "authorship_tag": "ABX9TyNHbBpBFULDlrnVT5W1I/0e",
      "include_colab_link": true
    },
    "kernelspec": {
      "name": "python3",
      "display_name": "Python 3"
    }
  },
  "cells": [
    {
      "cell_type": "markdown",
      "metadata": {
        "id": "view-in-github",
        "colab_type": "text"
      },
      "source": [
        "<a href=\"https://colab.research.google.com/github/itimes-digital/Bootcamp-Analista-de-Machine-Learning-IGTI/blob/master/trabalho_pratico_modulo_03.ipynb\" target=\"_parent\"><img src=\"https://colab.research.google.com/assets/colab-badge.svg\" alt=\"Open In Colab\"/></a>"
      ]
    },
    {
      "cell_type": "code",
      "metadata": {
        "id": "QKYF0044iaPg",
        "colab_type": "code",
        "colab": {}
      },
      "source": [
        "from sklearn import datasets\n",
        "from sklearn.decomposition import PCA\n",
        "import numpy as np\n",
        "import matplotlib.pyplot as plt\n",
        "import seaborn as sn"
      ],
      "execution_count": 162,
      "outputs": []
    },
    {
      "cell_type": "code",
      "metadata": {
        "id": "5Z4QYjdTivx5",
        "colab_type": "code",
        "colab": {}
      },
      "source": [
        "iris = datasets.load_iris()\n",
        "x = iris.data[:, :2] # pegamos as primeiras duas features aqui. Pegue as outras se quiser.\n",
        "y = iris.target"
      ],
      "execution_count": 184,
      "outputs": []
    },
    {
      "cell_type": "code",
      "metadata": {
        "id": "Wft6y6e5iw9H",
        "colab_type": "code",
        "colab": {
          "base_uri": "https://localhost:8080/",
          "height": 34
        },
        "outputId": "fde49e3f-23e0-4d17-f9e6-4572e9cdb1f6"
      },
      "source": [
        "y[0] # classe do primeiro elemento\n",
        "x[:1, :] # primeiro elemento a classificar"
      ],
      "execution_count": 185,
      "outputs": [
        {
          "output_type": "execute_result",
          "data": {
            "text/plain": [
              "array([[5.1, 3.5]])"
            ]
          },
          "metadata": {
            "tags": []
          },
          "execution_count": 185
        }
      ]
    },
    {
      "cell_type": "code",
      "metadata": {
        "id": "FTEGFxXGxrBJ",
        "colab_type": "code",
        "colab": {
          "base_uri": "https://localhost:8080/",
          "height": 187
        },
        "outputId": "540c8fa9-a96a-4e3b-8a07-89f52d8f5077"
      },
      "source": [
        "x[0:10]"
      ],
      "execution_count": 186,
      "outputs": [
        {
          "output_type": "execute_result",
          "data": {
            "text/plain": [
              "array([[5.1, 3.5],\n",
              "       [4.9, 3. ],\n",
              "       [4.7, 3.2],\n",
              "       [4.6, 3.1],\n",
              "       [5. , 3.6],\n",
              "       [5.4, 3.9],\n",
              "       [4.6, 3.4],\n",
              "       [5. , 3.4],\n",
              "       [4.4, 2.9],\n",
              "       [4.9, 3.1]])"
            ]
          },
          "metadata": {
            "tags": []
          },
          "execution_count": 186
        }
      ]
    },
    {
      "cell_type": "code",
      "metadata": {
        "id": "CKxE52Xsi27W",
        "colab_type": "code",
        "colab": {
          "base_uri": "https://localhost:8080/",
          "height": 136
        },
        "outputId": "78bf9277-5486-4792-f103-12f578386d70"
      },
      "source": [
        "y"
      ],
      "execution_count": 187,
      "outputs": [
        {
          "output_type": "execute_result",
          "data": {
            "text/plain": [
              "array([0, 0, 0, 0, 0, 0, 0, 0, 0, 0, 0, 0, 0, 0, 0, 0, 0, 0, 0, 0, 0, 0,\n",
              "       0, 0, 0, 0, 0, 0, 0, 0, 0, 0, 0, 0, 0, 0, 0, 0, 0, 0, 0, 0, 0, 0,\n",
              "       0, 0, 0, 0, 0, 0, 1, 1, 1, 1, 1, 1, 1, 1, 1, 1, 1, 1, 1, 1, 1, 1,\n",
              "       1, 1, 1, 1, 1, 1, 1, 1, 1, 1, 1, 1, 1, 1, 1, 1, 1, 1, 1, 1, 1, 1,\n",
              "       1, 1, 1, 1, 1, 1, 1, 1, 1, 1, 1, 1, 2, 2, 2, 2, 2, 2, 2, 2, 2, 2,\n",
              "       2, 2, 2, 2, 2, 2, 2, 2, 2, 2, 2, 2, 2, 2, 2, 2, 2, 2, 2, 2, 2, 2,\n",
              "       2, 2, 2, 2, 2, 2, 2, 2, 2, 2, 2, 2, 2, 2, 2, 2, 2, 2])"
            ]
          },
          "metadata": {
            "tags": []
          },
          "execution_count": 187
        }
      ]
    },
    {
      "cell_type": "code",
      "metadata": {
        "id": "DDjxFNRajD4v",
        "colab_type": "code",
        "colab": {
          "base_uri": "https://localhost:8080/",
          "height": 34
        },
        "outputId": "df72c218-4fe5-4eb0-a839-fc8abd6f8bcd"
      },
      "source": [
        "len(y)"
      ],
      "execution_count": 188,
      "outputs": [
        {
          "output_type": "execute_result",
          "data": {
            "text/plain": [
              "150"
            ]
          },
          "metadata": {
            "tags": []
          },
          "execution_count": 188
        }
      ]
    },
    {
      "cell_type": "code",
      "metadata": {
        "id": "lo8nHb523iFw",
        "colab_type": "code",
        "colab": {
          "base_uri": "https://localhost:8080/",
          "height": 34
        },
        "outputId": "c5a61283-df45-4439-8c60-25b3f3670d62"
      },
      "source": [
        "len(x)"
      ],
      "execution_count": 189,
      "outputs": [
        {
          "output_type": "execute_result",
          "data": {
            "text/plain": [
              "150"
            ]
          },
          "metadata": {
            "tags": []
          },
          "execution_count": 189
        }
      ]
    },
    {
      "cell_type": "code",
      "metadata": {
        "id": "Nb1B-Vnmja3S",
        "colab_type": "code",
        "colab": {}
      },
      "source": [
        "from sklearn.model_selection import train_test_split\n",
        "\n",
        "x_train, x_test, y_train, y_test = train_test_split(x, y, test_size = 0.35, random_state = 42)"
      ],
      "execution_count": 205,
      "outputs": []
    },
    {
      "cell_type": "code",
      "metadata": {
        "id": "BX0-Fo3-l5rn",
        "colab_type": "code",
        "colab": {}
      },
      "source": [
        "from sklearn.ensemble import AdaBoostClassifier\n",
        "abc = AdaBoostClassifier()\n",
        "abc.fit(x_train, y_train)\n",
        "y_pred = abc.predict(x_test)"
      ],
      "execution_count": 206,
      "outputs": []
    },
    {
      "cell_type": "code",
      "metadata": {
        "id": "M_VETtG33xTa",
        "colab_type": "code",
        "colab": {
          "base_uri": "https://localhost:8080/",
          "height": 68
        },
        "outputId": "df7d49fe-8ada-4348-dd8e-c0b0e68342b9"
      },
      "source": [
        "y_test"
      ],
      "execution_count": 207,
      "outputs": [
        {
          "output_type": "execute_result",
          "data": {
            "text/plain": [
              "array([1, 0, 2, 1, 1, 0, 1, 2, 1, 1, 2, 0, 0, 0, 0, 1, 2, 1, 1, 2, 0, 2,\n",
              "       0, 2, 2, 2, 2, 2, 0, 0, 0, 0, 1, 0, 0, 2, 1, 0, 0, 0, 2, 1, 1, 0,\n",
              "       0, 1, 2, 2, 1, 2, 1, 2, 1])"
            ]
          },
          "metadata": {
            "tags": []
          },
          "execution_count": 207
        }
      ]
    },
    {
      "cell_type": "code",
      "metadata": {
        "id": "v0MqeMDg3zwh",
        "colab_type": "code",
        "colab": {
          "base_uri": "https://localhost:8080/",
          "height": 68
        },
        "outputId": "9c160f2b-c5a9-4f54-d2fc-b052aa56193f"
      },
      "source": [
        "y_pred"
      ],
      "execution_count": 208,
      "outputs": [
        {
          "output_type": "execute_result",
          "data": {
            "text/plain": [
              "array([2, 0, 2, 2, 2, 0, 1, 2, 2, 1, 2, 0, 0, 0, 0, 2, 1, 1, 1, 2, 0, 1,\n",
              "       0, 2, 2, 1, 2, 2, 0, 0, 0, 0, 2, 0, 0, 2, 2, 0, 0, 0, 1, 2, 2, 0,\n",
              "       0, 1, 2, 2, 1, 2, 1, 1, 1])"
            ]
          },
          "metadata": {
            "tags": []
          },
          "execution_count": 208
        }
      ]
    },
    {
      "cell_type": "code",
      "metadata": {
        "id": "fb4ucxnm0ler",
        "colab_type": "code",
        "colab": {
          "base_uri": "https://localhost:8080/",
          "height": 211
        },
        "outputId": "51848527-2d3e-4c75-cdb1-0f02a9cfbac6"
      },
      "source": [
        "matriz = confusion_matrix(y_test, y_pred)\n",
        "\n",
        "plt.figure(figsize=(5, 3))\n",
        "sn.heatmap(matriz, annot=True)\n",
        "plt.show()"
      ],
      "execution_count": 209,
      "outputs": [
        {
          "output_type": "display_data",
          "data": {
            "image/png": "[encoded data removed]",
            "text/plain": [
              "<Figure size 360x216 with 2 Axes>"
            ]
          },
          "metadata": {
            "tags": [],
            "needs_background": "light"
          }
        }
      ]
    },
    {
      "cell_type": "code",
      "metadata": {
        "id": "a0YfAUqyl8nB",
        "colab_type": "code",
        "colab": {}
      },
      "source": [
        "from sklearn.metrics import accuracy_score, recall_score, precision_score, confusion_matrix\n",
        "\n",
        "abc_acc = round(accuracy_score(y_test, y_pred), 6)\n",
        "abc_recall = round(recall_score(y_test, y_pred, average = 'weighted'), 6)\n",
        "abc_precision = round(precision_score(y_test, y_pred, average = 'weighted'), 6)"
      ],
      "execution_count": 210,
      "outputs": []
    },
    {
      "cell_type": "code",
      "metadata": {
        "id": "22js88m3pcdQ",
        "colab_type": "code",
        "colab": {}
      },
      "source": [
        "from sklearn.ensemble import RandomForestClassifier\n",
        "rfc = RandomForestClassifier()\n",
        "rfc.fit(x_train, y_train)\n",
        "y_pred = rfc.predict(x_test)"
      ],
      "execution_count": 211,
      "outputs": []
    },
    {
      "cell_type": "code",
      "metadata": {
        "id": "zNhjw72o0o0g",
        "colab_type": "code",
        "colab": {
          "base_uri": "https://localhost:8080/",
          "height": 211
        },
        "outputId": "7077f096-3228-4f04-96bd-a4d55e398f17"
      },
      "source": [
        "matriz = confusion_matrix(y_test, y_pred)\n",
        "\n",
        "plt.figure(figsize=(5, 3))\n",
        "sn.heatmap(matriz, annot=True)\n",
        "plt.show()"
      ],
      "execution_count": 212,
      "outputs": [
        {
          "output_type": "display_data",
          "data": {
            "image/png": "[encoded data removed]",
            "text/plain": [
              "<Figure size 360x216 with 2 Axes>"
            ]
          },
          "metadata": {
            "tags": [],
            "needs_background": "light"
          }
        }
      ]
    },
    {
      "cell_type": "code",
      "metadata": {
        "id": "NcPuzmnlpeO8",
        "colab_type": "code",
        "colab": {}
      },
      "source": [
        "rfc_acc = round(accuracy_score(y_test, y_pred), 6)\n",
        "rfc_recall = round(recall_score(y_test, y_pred, average = 'weighted'), 6)\n",
        "rfc_precision = round(precision_score(y_test, y_pred, average = 'weighted'), 6)"
      ],
      "execution_count": 213,
      "outputs": []
    },
    {
      "cell_type": "code",
      "metadata": {
        "id": "-KXqj5j5l_XH",
        "colab_type": "code",
        "colab": {}
      },
      "source": [
        "from sklearn.neighbors import KNeighborsClassifier\n",
        "knn = KNeighborsClassifier(n_neighbors=3)\n",
        "knn.fit(x_train, y_train)\n",
        "y_pred = knn.predict(x_test)"
      ],
      "execution_count": 214,
      "outputs": []
    },
    {
      "cell_type": "code",
      "metadata": {
        "id": "HlSRhFV20wz1",
        "colab_type": "code",
        "colab": {
          "base_uri": "https://localhost:8080/",
          "height": 211
        },
        "outputId": "24847de8-11b4-4728-a327-06bc993457ba"
      },
      "source": [
        "matriz = confusion_matrix(y_test, y_pred)\n",
        "\n",
        "plt.figure(figsize=(5, 3))\n",
        "sn.heatmap(matriz, annot=True)\n",
        "plt.show()"
      ],
      "execution_count": 215,
      "outputs": [
        {
          "output_type": "display_data",
          "data": {
            "image/png": "[encoded data removed]",
            "text/plain": [
              "<Figure size 360x216 with 2 Axes>"
            ]
          },
          "metadata": {
            "tags": [],
            "needs_background": "light"
          }
        }
      ]
    },
    {
      "cell_type": "code",
      "metadata": {
        "id": "rdG3wsJ1mAg4",
        "colab_type": "code",
        "colab": {}
      },
      "source": [
        "knn_acc = round(accuracy_score(y_test, y_pred), 6)\n",
        "knn_recall = round(recall_score(y_test, y_pred, average='weighted'), 6)\n",
        "knn_precision = round(precision_score(y_test, y_pred, average='weighted'), 6)"
      ],
      "execution_count": 216,
      "outputs": []
    },
    {
      "cell_type": "code",
      "metadata": {
        "id": "zJGpabU9mBx3",
        "colab_type": "code",
        "colab": {
          "base_uri": "https://localhost:8080/",
          "height": 136
        },
        "outputId": "f903a859-76dd-408f-ea71-9d2a12e937d1"
      },
      "source": [
        "print(\"KNN vs Ada Boost vs Random Forest\\n\")\n",
        "print(\"Classes: {0}\\n\".format(iris.target_names))\n",
        "print(\"Acurácia: {0} vs {1} vs {2}\".format(knn_acc, abc_acc, rfc_acc))\n",
        "print(\"Recall: {0} vs {1} vs {2}\".format(knn_recall, abc_recall, rfc_recall))\n",
        "print(\"Precisão: {0} vs {1} vs {2}\".format(knn_precision, abc_precision, rfc_precision))"
      ],
      "execution_count": 222,
      "outputs": [
        {
          "output_type": "stream",
          "text": [
            "KNN vs Ada Boost vs Random Forest\n",
            "\n",
            "Classes: ['setosa' 'versicolor' 'virginica']\n",
            "\n",
            "Acurácia: 0.754717 vs 0.735849 vs 0.735849\n",
            "Recall: 0.754717 vs 0.735849 vs 0.735849\n",
            "Precisão: 0.757143 vs 0.739166 vs 0.736643\n"
          ],
          "name": "stdout"
        }
      ]
    },
    {
      "cell_type": "code",
      "metadata": {
        "id": "QIpWpWZemDUS",
        "colab_type": "code",
        "colab": {
          "base_uri": "https://localhost:8080/",
          "height": 71
        },
        "outputId": "35c3acc8-7513-4d04-e8f4-6798a2225ac7"
      },
      "source": [
        "from sklearn.model_selection import cross_val_score\n",
        "\n",
        "# Para especificar o k-fold, pode passar o parâmetro cv=valor numérico da quantidade\n",
        "cv_abc = cross_val_score(abc, x, y)\n",
        "cv_knn = cross_val_score(knn, x, y)\n",
        "cv_rfc = cross_val_score(rfc, x, y)\n",
        "print(\"\\nValidação cruzada: {0} vs {1} vs {2}\".format(cv_knn, cv_abc, cv_rfc))"
      ],
      "execution_count": 223,
      "outputs": [
        {
          "output_type": "stream",
          "text": [
            "\n",
            "Validação cruzada: [0.66666667 0.8        0.63333333 0.86666667 0.66666667] vs [0.43333333 0.63333333 0.66666667 0.8        0.66666667] vs [0.73333333 0.73333333 0.7        0.8        0.76666667]\n"
          ],
          "name": "stdout"
        }
      ]
    },
    {
      "cell_type": "code",
      "metadata": {
        "id": "wFPLoBf5moim",
        "colab_type": "code",
        "colab": {
          "base_uri": "https://localhost:8080/",
          "height": 51
        },
        "outputId": "590ec0ab-b0b1-4eb7-dab4-2cd182a6aed2"
      },
      "source": [
        "sum_cv_abc = 0\n",
        "for cv_score in cv_abc:\n",
        "  sum_cv_abc += cv_score;\n",
        "\n",
        "print(\"\\nResultado Ada Boost: {0}\".format(sum_cv_abc/4))"
      ],
      "execution_count": 224,
      "outputs": [
        {
          "output_type": "stream",
          "text": [
            "\n",
            "Resultado Ada Boost: 0.7999999999999999\n"
          ],
          "name": "stdout"
        }
      ]
    },
    {
      "cell_type": "code",
      "metadata": {
        "id": "9IcR-hyjqBwL",
        "colab_type": "code",
        "colab": {
          "base_uri": "https://localhost:8080/",
          "height": 51
        },
        "outputId": "d4daf37d-6da1-4fba-f4e8-193d5e7de6a7"
      },
      "source": [
        "sum_cv_rfc = 0\n",
        "for cv_score in cv_rfc:\n",
        "  sum_cv_rfc += cv_score;\n",
        "\n",
        "print(\"\\nResultado Random Forest: {0}\".format(sum_cv_rfc/4))"
      ],
      "execution_count": 225,
      "outputs": [
        {
          "output_type": "stream",
          "text": [
            "\n",
            "Resultado Random Forest: 0.9333333333333333\n"
          ],
          "name": "stdout"
        }
      ]
    },
    {
      "cell_type": "code",
      "metadata": {
        "id": "qIvltc6zmp1S",
        "colab_type": "code",
        "colab": {
          "base_uri": "https://localhost:8080/",
          "height": 51
        },
        "outputId": "58f928ad-80d4-431f-dc68-19a428cc5729"
      },
      "source": [
        "sum_cv_knn = 0\n",
        "for cv_score in cv_knn:\n",
        "  sum_cv_knn += cv_score;\n",
        "\n",
        "print(\"\\nResultado KNN: {0}\".format(sum_cv_knn/4))"
      ],
      "execution_count": 226,
      "outputs": [
        {
          "output_type": "stream",
          "text": [
            "\n",
            "Resultado KNN: 0.9083333333333333\n"
          ],
          "name": "stdout"
        }
      ]
    },
    {
      "cell_type": "code",
      "metadata": {
        "id": "5x1COFbfnFwI",
        "colab_type": "code",
        "colab": {}
      },
      "source": [
        "from sklearn.model_selection import GridSearchCV"
      ],
      "execution_count": 227,
      "outputs": []
    },
    {
      "cell_type": "code",
      "metadata": {
        "id": "svOEzBhwqYNT",
        "colab_type": "code",
        "colab": {
          "base_uri": "https://localhost:8080/",
          "height": 34
        },
        "outputId": "0449b7f8-69f4-482c-920b-01d58225752f"
      },
      "source": [
        "parameters = {'n_estimators':(5,300)}\n",
        "abc_hps = GridSearchCV(abc, parameters)\n",
        "abc_hps.fit(x, y)\n",
        "print(\"Melhor valor para n_estimators: {0}\".format(abc_hps.best_params_['n_estimators']))"
      ],
      "execution_count": 228,
      "outputs": [
        {
          "output_type": "stream",
          "text": [
            "Melhor valor para n_estimators: 300\n"
          ],
          "name": "stdout"
        }
      ]
    },
    {
      "cell_type": "code",
      "metadata": {
        "id": "furEYRfrqc-6",
        "colab_type": "code",
        "colab": {
          "base_uri": "https://localhost:8080/",
          "height": 34
        },
        "outputId": "5a66fe3d-14c1-4a44-f79e-58118d8a4d22"
      },
      "source": [
        "parameters = {'n_estimators':(5,300)}\n",
        "rfc_hps = GridSearchCV(rfc, parameters)\n",
        "rfc_hps.fit(x, y)\n",
        "print(\"Melhor valor para n_estimators: {0}\".format(rfc_hps.best_params_['n_estimators']))"
      ],
      "execution_count": 229,
      "outputs": [
        {
          "output_type": "stream",
          "text": [
            "Melhor valor para n_estimators: 300\n"
          ],
          "name": "stdout"
        }
      ]
    },
    {
      "cell_type": "code",
      "metadata": {
        "id": "E_piZdQ8qbYr",
        "colab_type": "code",
        "colab": {
          "base_uri": "https://localhost:8080/",
          "height": 34
        },
        "outputId": "4743fedf-7dd2-4918-dfa5-e4f932ae5396"
      },
      "source": [
        "parameters = {'n_neighbors':(1,20)}\n",
        "knn_hps = GridSearchCV(knn, parameters)\n",
        "knn_hps.fit(x, y)\n",
        "knn_hps.best_params_['n_neighbors']\n",
        "print(\"Melhor valor para n_neighbors: {0}\".format(knn_hps.best_params_['n_neighbors']))"
      ],
      "execution_count": 230,
      "outputs": [
        {
          "output_type": "stream",
          "text": [
            "Melhor valor para n_neighbors: 20\n"
          ],
          "name": "stdout"
        }
      ]
    },
    {
      "cell_type": "code",
      "metadata": {
        "id": "UdQzQGdjsFN1",
        "colab_type": "code",
        "colab": {}
      },
      "source": [
        ""
      ],
      "execution_count": null,
      "outputs": []
    }
  ]
}