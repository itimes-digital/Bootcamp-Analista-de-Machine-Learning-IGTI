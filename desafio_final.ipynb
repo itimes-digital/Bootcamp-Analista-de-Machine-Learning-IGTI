{
  "nbformat": 4,
  "nbformat_minor": 0,
  "metadata": {
    "colab": {
      "name": "desafio_final.ipynb",
      "provenance": [],
      "authorship_tag": "ABX9TyNSybRi2SGo11f0A6eozyAQ",
      "include_colab_link": true
    },
    "kernelspec": {
      "name": "python3",
      "display_name": "Python 3"
    }
  },
  "cells": [
    {
      "cell_type": "markdown",
      "metadata": {
        "id": "view-in-github",
        "colab_type": "text"
      },
      "source": [
        "<a href=\"https://colab.research.google.com/github/itimes-digital/Bootcamp-Analista-de-Machine-Learning-IGTI/blob/master/desafio_final.ipynb\" target=\"_parent\"><img src=\"https://colab.research.google.com/assets/colab-badge.svg\" alt=\"Open In Colab\"/></a>"
      ]
    },
    {
      "cell_type": "code",
      "metadata": {
        "id": "mikeFSToVKD5",
        "colab_type": "code",
        "colab": {}
      },
      "source": [
        "import pandas as pd\n",
        "import numpy as np\n",
        "import matplotlib.pyplot as plt"
      ],
      "execution_count": 86,
      "outputs": []
    },
    {
      "cell_type": "code",
      "metadata": {
        "id": "RSBVGWBWYWo_",
        "colab_type": "code",
        "colab": {
          "base_uri": "https://localhost:8080/",
          "height": 197
        },
        "outputId": "982d8c8c-a277-4b73-9662-c8d59db8b5f4"
      },
      "source": [
        "dataset = pd.read_csv('https://raw.githubusercontent.com/itimes-digital/estudo-python-git/master/machine-learning/dataset/cars.csv', sep=',')\n",
        "dataset.head()"
      ],
      "execution_count": 87,
      "outputs": [
        {
          "output_type": "execute_result",
          "data": {
            "text/html": [
              "<div>\n",
              "<style scoped>\n",
              "    .dataframe tbody tr th:only-of-type {\n",
              "        vertical-align: middle;\n",
              "    }\n",
              "\n",
              "    .dataframe tbody tr th {\n",
              "        vertical-align: top;\n",
              "    }\n",
              "\n",
              "    .dataframe thead th {\n",
              "        text-align: right;\n",
              "    }\n",
              "</style>\n",
              "<table border=\"1\" class=\"dataframe\">\n",
              "  <thead>\n",
              "    <tr style=\"text-align: right;\">\n",
              "      <th></th>\n",
              "      <th>mpg</th>\n",
              "      <th>cylinders</th>\n",
              "      <th>cubicinches</th>\n",
              "      <th>hp</th>\n",
              "      <th>weightlbs</th>\n",
              "      <th>time-to-60</th>\n",
              "      <th>year</th>\n",
              "      <th>brand</th>\n",
              "    </tr>\n",
              "  </thead>\n",
              "  <tbody>\n",
              "    <tr>\n",
              "      <th>0</th>\n",
              "      <td>14.0</td>\n",
              "      <td>8</td>\n",
              "      <td>350</td>\n",
              "      <td>165</td>\n",
              "      <td>4209</td>\n",
              "      <td>12</td>\n",
              "      <td>1972</td>\n",
              "      <td>US.</td>\n",
              "    </tr>\n",
              "    <tr>\n",
              "      <th>1</th>\n",
              "      <td>31.9</td>\n",
              "      <td>4</td>\n",
              "      <td>89</td>\n",
              "      <td>71</td>\n",
              "      <td>1925</td>\n",
              "      <td>14</td>\n",
              "      <td>1980</td>\n",
              "      <td>Europe.</td>\n",
              "    </tr>\n",
              "    <tr>\n",
              "      <th>2</th>\n",
              "      <td>17.0</td>\n",
              "      <td>8</td>\n",
              "      <td>302</td>\n",
              "      <td>140</td>\n",
              "      <td>3449</td>\n",
              "      <td>11</td>\n",
              "      <td>1971</td>\n",
              "      <td>US.</td>\n",
              "    </tr>\n",
              "    <tr>\n",
              "      <th>3</th>\n",
              "      <td>15.0</td>\n",
              "      <td>8</td>\n",
              "      <td>400</td>\n",
              "      <td>150</td>\n",
              "      <td>3761</td>\n",
              "      <td>10</td>\n",
              "      <td>1971</td>\n",
              "      <td>US.</td>\n",
              "    </tr>\n",
              "    <tr>\n",
              "      <th>4</th>\n",
              "      <td>30.5</td>\n",
              "      <td>4</td>\n",
              "      <td>98</td>\n",
              "      <td>63</td>\n",
              "      <td>2051</td>\n",
              "      <td>17</td>\n",
              "      <td>1978</td>\n",
              "      <td>US.</td>\n",
              "    </tr>\n",
              "  </tbody>\n",
              "</table>\n",
              "</div>"
            ],
            "text/plain": [
              "    mpg  cylinders cubicinches   hp weightlbs  time-to-60  year     brand\n",
              "0  14.0          8         350  165      4209          12  1972       US.\n",
              "1  31.9          4          89   71      1925          14  1980   Europe.\n",
              "2  17.0          8         302  140      3449          11  1971       US.\n",
              "3  15.0          8         400  150      3761          10  1971       US.\n",
              "4  30.5          4          98   63      2051          17  1978       US."
            ]
          },
          "metadata": {
            "tags": []
          },
          "execution_count": 87
        }
      ]
    },
    {
      "cell_type": "code",
      "metadata": {
        "id": "a6dI78-4ZJe9",
        "colab_type": "code",
        "colab": {
          "base_uri": "https://localhost:8080/",
          "height": 266
        },
        "outputId": "d82eb768-a935-4912-e251-56f77dbe68a0"
      },
      "source": [
        "dataset.info()"
      ],
      "execution_count": 88,
      "outputs": [
        {
          "output_type": "stream",
          "text": [
            "<class 'pandas.core.frame.DataFrame'>\n",
            "RangeIndex: 261 entries, 0 to 260\n",
            "Data columns (total 8 columns):\n",
            " #   Column       Non-Null Count  Dtype  \n",
            "---  ------       --------------  -----  \n",
            " 0   mpg          261 non-null    float64\n",
            " 1   cylinders    261 non-null    int64  \n",
            " 2   cubicinches  261 non-null    object \n",
            " 3   hp           261 non-null    int64  \n",
            " 4   weightlbs    261 non-null    object \n",
            " 5   time-to-60   261 non-null    int64  \n",
            " 6   year         261 non-null    int64  \n",
            " 7   brand        261 non-null    object \n",
            "dtypes: float64(1), int64(4), object(3)\n",
            "memory usage: 16.4+ KB\n"
          ],
          "name": "stdout"
        }
      ]
    },
    {
      "cell_type": "code",
      "metadata": {
        "id": "egTV1q-oZavw",
        "colab_type": "code",
        "colab": {
          "base_uri": "https://localhost:8080/",
          "height": 287
        },
        "outputId": "eb9a3b39-0904-46ee-f0dc-bfad3e7eb03c"
      },
      "source": [
        "dataset.describe()"
      ],
      "execution_count": 89,
      "outputs": [
        {
          "output_type": "execute_result",
          "data": {
            "text/html": [
              "<div>\n",
              "<style scoped>\n",
              "    .dataframe tbody tr th:only-of-type {\n",
              "        vertical-align: middle;\n",
              "    }\n",
              "\n",
              "    .dataframe tbody tr th {\n",
              "        vertical-align: top;\n",
              "    }\n",
              "\n",
              "    .dataframe thead th {\n",
              "        text-align: right;\n",
              "    }\n",
              "</style>\n",
              "<table border=\"1\" class=\"dataframe\">\n",
              "  <thead>\n",
              "    <tr style=\"text-align: right;\">\n",
              "      <th></th>\n",
              "      <th>mpg</th>\n",
              "      <th>cylinders</th>\n",
              "      <th>hp</th>\n",
              "      <th>time-to-60</th>\n",
              "      <th>year</th>\n",
              "    </tr>\n",
              "  </thead>\n",
              "  <tbody>\n",
              "    <tr>\n",
              "      <th>count</th>\n",
              "      <td>261.000000</td>\n",
              "      <td>261.000000</td>\n",
              "      <td>261.000000</td>\n",
              "      <td>261.000000</td>\n",
              "      <td>261.000000</td>\n",
              "    </tr>\n",
              "    <tr>\n",
              "      <th>mean</th>\n",
              "      <td>23.144828</td>\n",
              "      <td>5.590038</td>\n",
              "      <td>106.360153</td>\n",
              "      <td>15.547893</td>\n",
              "      <td>1976.819923</td>\n",
              "    </tr>\n",
              "    <tr>\n",
              "      <th>std</th>\n",
              "      <td>7.823570</td>\n",
              "      <td>1.733310</td>\n",
              "      <td>40.499959</td>\n",
              "      <td>2.910625</td>\n",
              "      <td>3.637696</td>\n",
              "    </tr>\n",
              "    <tr>\n",
              "      <th>min</th>\n",
              "      <td>10.000000</td>\n",
              "      <td>3.000000</td>\n",
              "      <td>46.000000</td>\n",
              "      <td>8.000000</td>\n",
              "      <td>1971.000000</td>\n",
              "    </tr>\n",
              "    <tr>\n",
              "      <th>25%</th>\n",
              "      <td>16.900000</td>\n",
              "      <td>4.000000</td>\n",
              "      <td>75.000000</td>\n",
              "      <td>14.000000</td>\n",
              "      <td>1974.000000</td>\n",
              "    </tr>\n",
              "    <tr>\n",
              "      <th>50%</th>\n",
              "      <td>22.000000</td>\n",
              "      <td>6.000000</td>\n",
              "      <td>95.000000</td>\n",
              "      <td>16.000000</td>\n",
              "      <td>1977.000000</td>\n",
              "    </tr>\n",
              "    <tr>\n",
              "      <th>75%</th>\n",
              "      <td>28.800000</td>\n",
              "      <td>8.000000</td>\n",
              "      <td>138.000000</td>\n",
              "      <td>17.000000</td>\n",
              "      <td>1980.000000</td>\n",
              "    </tr>\n",
              "    <tr>\n",
              "      <th>max</th>\n",
              "      <td>46.600000</td>\n",
              "      <td>8.000000</td>\n",
              "      <td>230.000000</td>\n",
              "      <td>25.000000</td>\n",
              "      <td>1983.000000</td>\n",
              "    </tr>\n",
              "  </tbody>\n",
              "</table>\n",
              "</div>"
            ],
            "text/plain": [
              "              mpg   cylinders          hp  time-to-60         year\n",
              "count  261.000000  261.000000  261.000000  261.000000   261.000000\n",
              "mean    23.144828    5.590038  106.360153   15.547893  1976.819923\n",
              "std      7.823570    1.733310   40.499959    2.910625     3.637696\n",
              "min     10.000000    3.000000   46.000000    8.000000  1971.000000\n",
              "25%     16.900000    4.000000   75.000000   14.000000  1974.000000\n",
              "50%     22.000000    6.000000   95.000000   16.000000  1977.000000\n",
              "75%     28.800000    8.000000  138.000000   17.000000  1980.000000\n",
              "max     46.600000    8.000000  230.000000   25.000000  1983.000000"
            ]
          },
          "metadata": {
            "tags": []
          },
          "execution_count": 89
        }
      ]
    },
    {
      "cell_type": "code",
      "metadata": {
        "id": "TWhxvOfSZrZv",
        "colab_type": "code",
        "colab": {
          "base_uri": "https://localhost:8080/",
          "height": 166
        },
        "outputId": "b6c577e6-da09-4a87-dd69-2b9c785cc143"
      },
      "source": [
        "dataset.nunique()"
      ],
      "execution_count": 90,
      "outputs": [
        {
          "output_type": "execute_result",
          "data": {
            "text/plain": [
              "mpg            103\n",
              "cylinders        5\n",
              "cubicinches     75\n",
              "hp              85\n",
              "weightlbs      240\n",
              "time-to-60      17\n",
              "year            13\n",
              "brand            3\n",
              "dtype: int64"
            ]
          },
          "metadata": {
            "tags": []
          },
          "execution_count": 90
        }
      ]
    },
    {
      "cell_type": "code",
      "metadata": {
        "id": "Bphu-Y6iczPI",
        "colab_type": "code",
        "colab": {
          "base_uri": "https://localhost:8080/",
          "height": 166
        },
        "outputId": "16060409-7d22-490c-f5a0-d5d94b231be5"
      },
      "source": [
        "dataset.isnull().sum()"
      ],
      "execution_count": 91,
      "outputs": [
        {
          "output_type": "execute_result",
          "data": {
            "text/plain": [
              "mpg            0\n",
              "cylinders      0\n",
              "cubicinches    0\n",
              "hp             0\n",
              "weightlbs      0\n",
              "time-to-60     0\n",
              "year           0\n",
              "brand          0\n",
              "dtype: int64"
            ]
          },
          "metadata": {
            "tags": []
          },
          "execution_count": 91
        }
      ]
    },
    {
      "cell_type": "code",
      "metadata": {
        "id": "mBbnW_T0c8QN",
        "colab_type": "code",
        "colab": {}
      },
      "source": [
        "dataset['cubicinches'] = pd.to_numeric(dataset['cubicinches'], errors='coerce')"
      ],
      "execution_count": 92,
      "outputs": []
    },
    {
      "cell_type": "code",
      "metadata": {
        "id": "CvXm1bXGdcf4",
        "colab_type": "code",
        "colab": {}
      },
      "source": [
        "dataset['weightlbs'] = pd.to_numeric(dataset['weightlbs'], errors='coerce')"
      ],
      "execution_count": 93,
      "outputs": []
    },
    {
      "cell_type": "code",
      "metadata": {
        "id": "LDEU7SPldtrY",
        "colab_type": "code",
        "colab": {
          "base_uri": "https://localhost:8080/",
          "height": 166
        },
        "outputId": "99d70b40-ddea-408e-f920-e0b6e8f24f39"
      },
      "source": [
        "dataset.isnull().sum()"
      ],
      "execution_count": 94,
      "outputs": [
        {
          "output_type": "execute_result",
          "data": {
            "text/plain": [
              "mpg            0\n",
              "cylinders      0\n",
              "cubicinches    2\n",
              "hp             0\n",
              "weightlbs      3\n",
              "time-to-60     0\n",
              "year           0\n",
              "brand          0\n",
              "dtype: int64"
            ]
          },
          "metadata": {
            "tags": []
          },
          "execution_count": 94
        }
      ]
    },
    {
      "cell_type": "code",
      "metadata": {
        "id": "t52Jn_CRd8IK",
        "colab_type": "code",
        "colab": {
          "base_uri": "https://localhost:8080/",
          "height": 107
        },
        "outputId": "8d10c3fc-f939-4eeb-ff49-593d21370835"
      },
      "source": [
        "dataset.query(\"cubicinches == 'NaN'\")"
      ],
      "execution_count": 95,
      "outputs": [
        {
          "output_type": "execute_result",
          "data": {
            "text/html": [
              "<div>\n",
              "<style scoped>\n",
              "    .dataframe tbody tr th:only-of-type {\n",
              "        vertical-align: middle;\n",
              "    }\n",
              "\n",
              "    .dataframe tbody tr th {\n",
              "        vertical-align: top;\n",
              "    }\n",
              "\n",
              "    .dataframe thead th {\n",
              "        text-align: right;\n",
              "    }\n",
              "</style>\n",
              "<table border=\"1\" class=\"dataframe\">\n",
              "  <thead>\n",
              "    <tr style=\"text-align: right;\">\n",
              "      <th></th>\n",
              "      <th>mpg</th>\n",
              "      <th>cylinders</th>\n",
              "      <th>cubicinches</th>\n",
              "      <th>hp</th>\n",
              "      <th>weightlbs</th>\n",
              "      <th>time-to-60</th>\n",
              "      <th>year</th>\n",
              "      <th>brand</th>\n",
              "    </tr>\n",
              "  </thead>\n",
              "  <tbody>\n",
              "    <tr>\n",
              "      <th>40</th>\n",
              "      <td>16.0</td>\n",
              "      <td>6</td>\n",
              "      <td>NaN</td>\n",
              "      <td>105</td>\n",
              "      <td>3897.0</td>\n",
              "      <td>19</td>\n",
              "      <td>1976</td>\n",
              "      <td>US.</td>\n",
              "    </tr>\n",
              "    <tr>\n",
              "      <th>180</th>\n",
              "      <td>19.8</td>\n",
              "      <td>6</td>\n",
              "      <td>NaN</td>\n",
              "      <td>85</td>\n",
              "      <td>2990.0</td>\n",
              "      <td>18</td>\n",
              "      <td>1980</td>\n",
              "      <td>US.</td>\n",
              "    </tr>\n",
              "  </tbody>\n",
              "</table>\n",
              "</div>"
            ],
            "text/plain": [
              "      mpg  cylinders  cubicinches   hp  weightlbs  time-to-60  year brand\n",
              "40   16.0          6          NaN  105     3897.0          19  1976   US.\n",
              "180  19.8          6          NaN   85     2990.0          18  1980   US."
            ]
          },
          "metadata": {
            "tags": []
          },
          "execution_count": 95
        }
      ]
    },
    {
      "cell_type": "code",
      "metadata": {
        "id": "Qi7T1e3eg_Zx",
        "colab_type": "code",
        "colab": {
          "base_uri": "https://localhost:8080/",
          "height": 33
        },
        "outputId": "27d03d08-822f-4b15-c4a2-42592911d728"
      },
      "source": [
        "dataset['weightlbs'].mean()"
      ],
      "execution_count": 96,
      "outputs": [
        {
          "output_type": "execute_result",
          "data": {
            "text/plain": [
              "3009.8333333333335"
            ]
          },
          "metadata": {
            "tags": []
          },
          "execution_count": 96
        }
      ]
    },
    {
      "cell_type": "code",
      "metadata": {
        "id": "yEvElPlZfgrP",
        "colab_type": "code",
        "colab": {}
      },
      "source": [
        "dataset['weightlbs'].fillna(dataset['weightlbs'].mean(), inplace=True)"
      ],
      "execution_count": 97,
      "outputs": []
    },
    {
      "cell_type": "code",
      "metadata": {
        "id": "zGLoWkGQh0cw",
        "colab_type": "code",
        "colab": {}
      },
      "source": [
        "dataset['cubicinches'].fillna(dataset['cubicinches'].mean(), inplace=True)"
      ],
      "execution_count": 99,
      "outputs": []
    },
    {
      "cell_type": "code",
      "metadata": {
        "id": "NHuMFK_eghsV",
        "colab_type": "code",
        "colab": {
          "base_uri": "https://localhost:8080/",
          "height": 266
        },
        "outputId": "94017300-e6b3-4418-ed2e-823c82d5bfde"
      },
      "source": [
        "dataset.info()"
      ],
      "execution_count": 100,
      "outputs": [
        {
          "output_type": "stream",
          "text": [
            "<class 'pandas.core.frame.DataFrame'>\n",
            "RangeIndex: 261 entries, 0 to 260\n",
            "Data columns (total 8 columns):\n",
            " #   Column       Non-Null Count  Dtype  \n",
            "---  ------       --------------  -----  \n",
            " 0   mpg          261 non-null    float64\n",
            " 1   cylinders    261 non-null    int64  \n",
            " 2   cubicinches  261 non-null    float64\n",
            " 3   hp           261 non-null    int64  \n",
            " 4   weightlbs    261 non-null    float64\n",
            " 5   time-to-60   261 non-null    int64  \n",
            " 6   year         261 non-null    int64  \n",
            " 7   brand        261 non-null    object \n",
            "dtypes: float64(3), int64(4), object(1)\n",
            "memory usage: 16.4+ KB\n"
          ],
          "name": "stdout"
        }
      ]
    },
    {
      "cell_type": "code",
      "metadata": {
        "id": "UE2EO6rJhcur",
        "colab_type": "code",
        "colab": {
          "base_uri": "https://localhost:8080/",
          "height": 287
        },
        "outputId": "6ceb0971-c383-4d12-9136-6efa2945bc2b"
      },
      "source": [
        "dataset.describe()"
      ],
      "execution_count": 101,
      "outputs": [
        {
          "output_type": "execute_result",
          "data": {
            "text/html": [
              "<div>\n",
              "<style scoped>\n",
              "    .dataframe tbody tr th:only-of-type {\n",
              "        vertical-align: middle;\n",
              "    }\n",
              "\n",
              "    .dataframe tbody tr th {\n",
              "        vertical-align: top;\n",
              "    }\n",
              "\n",
              "    .dataframe thead th {\n",
              "        text-align: right;\n",
              "    }\n",
              "</style>\n",
              "<table border=\"1\" class=\"dataframe\">\n",
              "  <thead>\n",
              "    <tr style=\"text-align: right;\">\n",
              "      <th></th>\n",
              "      <th>mpg</th>\n",
              "      <th>cylinders</th>\n",
              "      <th>cubicinches</th>\n",
              "      <th>hp</th>\n",
              "      <th>weightlbs</th>\n",
              "      <th>time-to-60</th>\n",
              "      <th>year</th>\n",
              "    </tr>\n",
              "  </thead>\n",
              "  <tbody>\n",
              "    <tr>\n",
              "      <th>count</th>\n",
              "      <td>261.000000</td>\n",
              "      <td>261.000000</td>\n",
              "      <td>261.000000</td>\n",
              "      <td>261.000000</td>\n",
              "      <td>261.000000</td>\n",
              "      <td>261.000000</td>\n",
              "      <td>261.000000</td>\n",
              "    </tr>\n",
              "    <tr>\n",
              "      <th>mean</th>\n",
              "      <td>23.144828</td>\n",
              "      <td>5.590038</td>\n",
              "      <td>200.918919</td>\n",
              "      <td>106.360153</td>\n",
              "      <td>3009.833333</td>\n",
              "      <td>15.547893</td>\n",
              "      <td>1976.819923</td>\n",
              "    </tr>\n",
              "    <tr>\n",
              "      <th>std</th>\n",
              "      <td>7.823570</td>\n",
              "      <td>1.733310</td>\n",
              "      <td>108.837269</td>\n",
              "      <td>40.499959</td>\n",
              "      <td>849.097575</td>\n",
              "      <td>2.910625</td>\n",
              "      <td>3.637696</td>\n",
              "    </tr>\n",
              "    <tr>\n",
              "      <th>min</th>\n",
              "      <td>10.000000</td>\n",
              "      <td>3.000000</td>\n",
              "      <td>68.000000</td>\n",
              "      <td>46.000000</td>\n",
              "      <td>1613.000000</td>\n",
              "      <td>8.000000</td>\n",
              "      <td>1971.000000</td>\n",
              "    </tr>\n",
              "    <tr>\n",
              "      <th>25%</th>\n",
              "      <td>16.900000</td>\n",
              "      <td>4.000000</td>\n",
              "      <td>101.000000</td>\n",
              "      <td>75.000000</td>\n",
              "      <td>2254.000000</td>\n",
              "      <td>14.000000</td>\n",
              "      <td>1974.000000</td>\n",
              "    </tr>\n",
              "    <tr>\n",
              "      <th>50%</th>\n",
              "      <td>22.000000</td>\n",
              "      <td>6.000000</td>\n",
              "      <td>156.000000</td>\n",
              "      <td>95.000000</td>\n",
              "      <td>2904.000000</td>\n",
              "      <td>16.000000</td>\n",
              "      <td>1977.000000</td>\n",
              "    </tr>\n",
              "    <tr>\n",
              "      <th>75%</th>\n",
              "      <td>28.800000</td>\n",
              "      <td>8.000000</td>\n",
              "      <td>302.000000</td>\n",
              "      <td>138.000000</td>\n",
              "      <td>3664.000000</td>\n",
              "      <td>17.000000</td>\n",
              "      <td>1980.000000</td>\n",
              "    </tr>\n",
              "    <tr>\n",
              "      <th>max</th>\n",
              "      <td>46.600000</td>\n",
              "      <td>8.000000</td>\n",
              "      <td>455.000000</td>\n",
              "      <td>230.000000</td>\n",
              "      <td>4997.000000</td>\n",
              "      <td>25.000000</td>\n",
              "      <td>1983.000000</td>\n",
              "    </tr>\n",
              "  </tbody>\n",
              "</table>\n",
              "</div>"
            ],
            "text/plain": [
              "              mpg   cylinders  ...  time-to-60         year\n",
              "count  261.000000  261.000000  ...  261.000000   261.000000\n",
              "mean    23.144828    5.590038  ...   15.547893  1976.819923\n",
              "std      7.823570    1.733310  ...    2.910625     3.637696\n",
              "min     10.000000    3.000000  ...    8.000000  1971.000000\n",
              "25%     16.900000    4.000000  ...   14.000000  1974.000000\n",
              "50%     22.000000    6.000000  ...   16.000000  1977.000000\n",
              "75%     28.800000    8.000000  ...   17.000000  1980.000000\n",
              "max     46.600000    8.000000  ...   25.000000  1983.000000\n",
              "\n",
              "[8 rows x 7 columns]"
            ]
          },
          "metadata": {
            "tags": []
          },
          "execution_count": 101
        }
      ]
    },
    {
      "cell_type": "code",
      "metadata": {
        "id": "BWeqE4cQgNDA",
        "colab_type": "code",
        "colab": {
          "base_uri": "https://localhost:8080/",
          "height": 166
        },
        "outputId": "b5c44c58-46fc-4799-c5be-b378d1d610a1"
      },
      "source": [
        "dataset.isnull().sum()"
      ],
      "execution_count": 102,
      "outputs": [
        {
          "output_type": "execute_result",
          "data": {
            "text/plain": [
              "mpg            0\n",
              "cylinders      0\n",
              "cubicinches    0\n",
              "hp             0\n",
              "weightlbs      0\n",
              "time-to-60     0\n",
              "year           0\n",
              "brand          0\n",
              "dtype: int64"
            ]
          },
          "metadata": {
            "tags": []
          },
          "execution_count": 102
        }
      ]
    },
    {
      "cell_type": "code",
      "metadata": {
        "id": "juQgiVsHZeDD",
        "colab_type": "code",
        "colab": {
          "base_uri": "https://localhost:8080/",
          "height": 281
        },
        "outputId": "79393e4a-d9a8-45a0-f8a5-16293eafa81b"
      },
      "source": [
        "dataset[['mpg', 'cylinders', 'hp', 'time-to-60']].boxplot()"
      ],
      "execution_count": 103,
      "outputs": [
        {
          "output_type": "execute_result",
          "data": {
            "text/plain": [
              "<matplotlib.axes._subplots.AxesSubplot at 0x7fb52232c160>"
            ]
          },
          "metadata": {
            "tags": []
          },
          "execution_count": 103
        },
        {
          "output_type": "display_data",
          "data": {
            "image/png": "[encoded data removed]",
            "text/plain": [
              "<Figure size 432x288 with 1 Axes>"
            ]
          },
          "metadata": {
            "tags": [],
            "needs_background": "light"
          }
        }
      ]
    },
    {
      "cell_type": "code",
      "metadata": {
        "id": "KZe3Wnd1aMu6",
        "colab_type": "code",
        "colab": {
          "base_uri": "https://localhost:8080/",
          "height": 281
        },
        "outputId": "3d47bbbd-45d6-4870-ebd4-6fe774df7059"
      },
      "source": [
        "dataset[['cubicinches']].boxplot()"
      ],
      "execution_count": 104,
      "outputs": [
        {
          "output_type": "execute_result",
          "data": {
            "text/plain": [
              "<matplotlib.axes._subplots.AxesSubplot at 0x7fb52224ec50>"
            ]
          },
          "metadata": {
            "tags": []
          },
          "execution_count": 104
        },
        {
          "output_type": "display_data",
          "data": {
            "image/png": "[encoded data removed]",
            "text/plain": [
              "<Figure size 432x288 with 1 Axes>"
            ]
          },
          "metadata": {
            "tags": [],
            "needs_background": "light"
          }
        }
      ]
    },
    {
      "cell_type": "code",
      "metadata": {
        "id": "YcOOBK51jOJe",
        "colab_type": "code",
        "colab": {
          "base_uri": "https://localhost:8080/",
          "height": 281
        },
        "outputId": "6908f819-f66e-4bd9-f119-a14f0439e74b"
      },
      "source": [
        "dataset[['weightlbs']].boxplot()"
      ],
      "execution_count": 105,
      "outputs": [
        {
          "output_type": "execute_result",
          "data": {
            "text/plain": [
              "<matplotlib.axes._subplots.AxesSubplot at 0x7fb52223b278>"
            ]
          },
          "metadata": {
            "tags": []
          },
          "execution_count": 105
        },
        {
          "output_type": "display_data",
          "data": {
            "image/png": "[encoded data removed]",
            "text/plain": [
              "<Figure size 432x288 with 1 Axes>"
            ]
          },
          "metadata": {
            "tags": [],
            "needs_background": "light"
          }
        }
      ]
    },
    {
      "cell_type": "code",
      "metadata": {
        "id": "H2GZ6SdEkNCe",
        "colab_type": "code",
        "colab": {
          "base_uri": "https://localhost:8080/",
          "height": 107
        },
        "outputId": "6d0e48b4-fa12-4c41-ce2f-6e27335b6a59"
      },
      "source": [
        "dataset[['cylinders', 'mpg']].corr()"
      ],
      "execution_count": 106,
      "outputs": [
        {
          "output_type": "execute_result",
          "data": {
            "text/html": [
              "<div>\n",
              "<style scoped>\n",
              "    .dataframe tbody tr th:only-of-type {\n",
              "        vertical-align: middle;\n",
              "    }\n",
              "\n",
              "    .dataframe tbody tr th {\n",
              "        vertical-align: top;\n",
              "    }\n",
              "\n",
              "    .dataframe thead th {\n",
              "        text-align: right;\n",
              "    }\n",
              "</style>\n",
              "<table border=\"1\" class=\"dataframe\">\n",
              "  <thead>\n",
              "    <tr style=\"text-align: right;\">\n",
              "      <th></th>\n",
              "      <th>cylinders</th>\n",
              "      <th>mpg</th>\n",
              "    </tr>\n",
              "  </thead>\n",
              "  <tbody>\n",
              "    <tr>\n",
              "      <th>cylinders</th>\n",
              "      <td>1.00000</td>\n",
              "      <td>-0.77671</td>\n",
              "    </tr>\n",
              "    <tr>\n",
              "      <th>mpg</th>\n",
              "      <td>-0.77671</td>\n",
              "      <td>1.00000</td>\n",
              "    </tr>\n",
              "  </tbody>\n",
              "</table>\n",
              "</div>"
            ],
            "text/plain": [
              "           cylinders      mpg\n",
              "cylinders    1.00000 -0.77671\n",
              "mpg         -0.77671  1.00000"
            ]
          },
          "metadata": {
            "tags": []
          },
          "execution_count": 106
        }
      ]
    },
    {
      "cell_type": "code",
      "metadata": {
        "id": "nhE6UdNnkaKp",
        "colab_type": "code",
        "colab": {
          "base_uri": "https://localhost:8080/",
          "height": 281
        },
        "outputId": "22622385-1d28-472c-a918-5fe89441785f"
      },
      "source": [
        "dataset[['hp']].boxplot()"
      ],
      "execution_count": 107,
      "outputs": [
        {
          "output_type": "execute_result",
          "data": {
            "text/plain": [
              "<matplotlib.axes._subplots.AxesSubplot at 0x7fb5221ad400>"
            ]
          },
          "metadata": {
            "tags": []
          },
          "execution_count": 107
        },
        {
          "output_type": "display_data",
          "data": {
            "image/png": "[encoded data removed]",
            "text/plain": [
              "<Figure size 432x288 with 1 Axes>"
            ]
          },
          "metadata": {
            "tags": [],
            "needs_background": "light"
          }
        }
      ]
    },
    {
      "cell_type": "code",
      "metadata": {
        "id": "t8voQAPQlHGw",
        "colab_type": "code",
        "colab": {
          "base_uri": "https://localhost:8080/",
          "height": 287
        },
        "outputId": "ed8f2a71-9dcc-4bb4-953f-aa5232c625b7"
      },
      "source": [
        "dataset[['hp']].describe()"
      ],
      "execution_count": 108,
      "outputs": [
        {
          "output_type": "execute_result",
          "data": {
            "text/html": [
              "<div>\n",
              "<style scoped>\n",
              "    .dataframe tbody tr th:only-of-type {\n",
              "        vertical-align: middle;\n",
              "    }\n",
              "\n",
              "    .dataframe tbody tr th {\n",
              "        vertical-align: top;\n",
              "    }\n",
              "\n",
              "    .dataframe thead th {\n",
              "        text-align: right;\n",
              "    }\n",
              "</style>\n",
              "<table border=\"1\" class=\"dataframe\">\n",
              "  <thead>\n",
              "    <tr style=\"text-align: right;\">\n",
              "      <th></th>\n",
              "      <th>hp</th>\n",
              "    </tr>\n",
              "  </thead>\n",
              "  <tbody>\n",
              "    <tr>\n",
              "      <th>count</th>\n",
              "      <td>261.000000</td>\n",
              "    </tr>\n",
              "    <tr>\n",
              "      <th>mean</th>\n",
              "      <td>106.360153</td>\n",
              "    </tr>\n",
              "    <tr>\n",
              "      <th>std</th>\n",
              "      <td>40.499959</td>\n",
              "    </tr>\n",
              "    <tr>\n",
              "      <th>min</th>\n",
              "      <td>46.000000</td>\n",
              "    </tr>\n",
              "    <tr>\n",
              "      <th>25%</th>\n",
              "      <td>75.000000</td>\n",
              "    </tr>\n",
              "    <tr>\n",
              "      <th>50%</th>\n",
              "      <td>95.000000</td>\n",
              "    </tr>\n",
              "    <tr>\n",
              "      <th>75%</th>\n",
              "      <td>138.000000</td>\n",
              "    </tr>\n",
              "    <tr>\n",
              "      <th>max</th>\n",
              "      <td>230.000000</td>\n",
              "    </tr>\n",
              "  </tbody>\n",
              "</table>\n",
              "</div>"
            ],
            "text/plain": [
              "               hp\n",
              "count  261.000000\n",
              "mean   106.360153\n",
              "std     40.499959\n",
              "min     46.000000\n",
              "25%     75.000000\n",
              "50%     95.000000\n",
              "75%    138.000000\n",
              "max    230.000000"
            ]
          },
          "metadata": {
            "tags": []
          },
          "execution_count": 108
        }
      ]
    },
    {
      "cell_type": "code",
      "metadata": {
        "id": "02WVYCGQla5k",
        "colab_type": "code",
        "colab": {
          "base_uri": "https://localhost:8080/",
          "height": 233
        },
        "outputId": "417344e3-9f72-46a2-cb60-28acedb03784"
      },
      "source": [
        "from sklearn.preprocessing import StandardScaler\n",
        "\n",
        "normaliza = StandardScaler()\n",
        "new_dataset = dataset.loc[:,'mpg':'year'].values\n",
        "new_dataset"
      ],
      "execution_count": 153,
      "outputs": [
        {
          "output_type": "execute_result",
          "data": {
            "text/plain": [
              "array([[1.400e+01, 8.000e+00, 3.500e+02, ..., 4.209e+03, 1.200e+01,\n",
              "        1.972e+03],\n",
              "       [3.190e+01, 4.000e+00, 8.900e+01, ..., 1.925e+03, 1.400e+01,\n",
              "        1.980e+03],\n",
              "       [1.700e+01, 8.000e+00, 3.020e+02, ..., 3.449e+03, 1.100e+01,\n",
              "        1.971e+03],\n",
              "       ...,\n",
              "       [2.200e+01, 6.000e+00, 2.320e+02, ..., 2.835e+03, 1.500e+01,\n",
              "        1.983e+03],\n",
              "       [1.800e+01, 6.000e+00, 2.320e+02, ..., 3.288e+03, 1.600e+01,\n",
              "        1.972e+03],\n",
              "       [2.200e+01, 6.000e+00, 2.500e+02, ..., 3.353e+03, 1.500e+01,\n",
              "        1.977e+03]])"
            ]
          },
          "metadata": {
            "tags": []
          },
          "execution_count": 153
        }
      ]
    },
    {
      "cell_type": "code",
      "metadata": {
        "id": "7g1VMes3rSMo",
        "colab_type": "code",
        "colab": {}
      },
      "source": [
        "new_dataset = normaliza.fit_transform(new_dataset)"
      ],
      "execution_count": 154,
      "outputs": []
    },
    {
      "cell_type": "code",
      "metadata": {
        "id": "VX3zo2MjtqNZ",
        "colab_type": "code",
        "colab": {
          "base_uri": "https://localhost:8080/",
          "height": 366
        },
        "outputId": "7fac672a-bb0a-4dd5-c1f2-5b268a3d2570"
      },
      "source": [
        "dataset_hp = dataset.loc[:, 'hp'].values\n",
        "dataset_hp"
      ],
      "execution_count": 150,
      "outputs": [
        {
          "output_type": "execute_result",
          "data": {
            "text/plain": [
              "array([165,  71, 140, 150,  63, 125, 158, 215,  77,  62,  70,  78, 140,\n",
              "       180,  90, 155,  65, 150,  95,  90,  65, 110,  81, 142,  60,  53,\n",
              "        65, 148,  78,  65,  88, 100,  97,  90,  67, 110,  46, 110, 138,\n",
              "        90, 105, 140, 110, 110, 225,  74, 150,  86,  78,  88, 150,  71,\n",
              "       160,  75, 180, 230, 108,  83,  70, 175, 100,  94, 132,  65, 150,\n",
              "        98,  46,  67,  71, 145,  95,  88,  92,  97,  83,  85,  90,  95,\n",
              "        90,  75, 190, 198, 145,  95,  81,  69,  97,  85,  75,  82,  65,\n",
              "        97, 175, 100,  79, 110, 180,  88, 135, 100, 150, 167,  80,  70,\n",
              "        75,  84,  48,  76, 115, 130,  88, 112, 149,  53,  69,  95,  88,\n",
              "       110,  65, 198,  83,  67, 170, 105,  60,  72, 170,  75,  91,  66,\n",
              "        78,  90, 225, 150, 145, 150,  70, 129,  98,  87, 115,  75,  96,\n",
              "        60, 125,  88, 110,  90, 165, 139,  75,  95, 225,  72,  86,  88,\n",
              "        90,  68, 100, 133,  90, 140,  97,  95,  54, 110, 105,  92, 122,\n",
              "        63,  72, 103,  49,  85,  86,  69, 175, 150, 139,  68,  85,  67,\n",
              "       140, 150,  88,  85, 105, 150, 153, 215,  92,  90, 190, 145, 150,\n",
              "        76,  84,  48,  70,  70,  75,  83,  90, 100,  72, 190,  65,  88,\n",
              "       130, 116,  97, 165,  58,  70, 100, 100,  65, 152, 115, 130,  95,\n",
              "       115, 150, 120, 137,  61, 215,  52,  85,  86, 170,  79,  78, 150,\n",
              "       102,  52, 150,  85,  64,  86, 145, 105, 180,  87, 220, 150, 140,\n",
              "        48,  75,  84,  70, 110,  67, 145, 110,  95, 130,  60, 112, 100,\n",
              "       105])"
            ]
          },
          "metadata": {
            "tags": []
          },
          "execution_count": 150
        }
      ]
    },
    {
      "cell_type": "code",
      "metadata": {
        "id": "P-TG-odgtx1u",
        "colab_type": "code",
        "colab": {
          "base_uri": "https://localhost:8080/",
          "height": 300
        },
        "outputId": "cb4e5577-1c82-4c65-dfb7-a00752234422"
      },
      "source": [
        "dataset_hp = normaliza.fit_transform(np.reshape(dataset_hp, (1, -1)))\n",
        "dataset_hp"
      ],
      "execution_count": 151,
      "outputs": [
        {
          "output_type": "execute_result",
          "data": {
            "text/plain": [
              "array([[0., 0., 0., 0., 0., 0., 0., 0., 0., 0., 0., 0., 0., 0., 0., 0.,\n",
              "        0., 0., 0., 0., 0., 0., 0., 0., 0., 0., 0., 0., 0., 0., 0., 0.,\n",
              "        0., 0., 0., 0., 0., 0., 0., 0., 0., 0., 0., 0., 0., 0., 0., 0.,\n",
              "        0., 0., 0., 0., 0., 0., 0., 0., 0., 0., 0., 0., 0., 0., 0., 0.,\n",
              "        0., 0., 0., 0., 0., 0., 0., 0., 0., 0., 0., 0., 0., 0., 0., 0.,\n",
              "        0., 0., 0., 0., 0., 0., 0., 0., 0., 0., 0., 0., 0., 0., 0., 0.,\n",
              "        0., 0., 0., 0., 0., 0., 0., 0., 0., 0., 0., 0., 0., 0., 0., 0.,\n",
              "        0., 0., 0., 0., 0., 0., 0., 0., 0., 0., 0., 0., 0., 0., 0., 0.,\n",
              "        0., 0., 0., 0., 0., 0., 0., 0., 0., 0., 0., 0., 0., 0., 0., 0.,\n",
              "        0., 0., 0., 0., 0., 0., 0., 0., 0., 0., 0., 0., 0., 0., 0., 0.,\n",
              "        0., 0., 0., 0., 0., 0., 0., 0., 0., 0., 0., 0., 0., 0., 0., 0.,\n",
              "        0., 0., 0., 0., 0., 0., 0., 0., 0., 0., 0., 0., 0., 0., 0., 0.,\n",
              "        0., 0., 0., 0., 0., 0., 0., 0., 0., 0., 0., 0., 0., 0., 0., 0.,\n",
              "        0., 0., 0., 0., 0., 0., 0., 0., 0., 0., 0., 0., 0., 0., 0., 0.,\n",
              "        0., 0., 0., 0., 0., 0., 0., 0., 0., 0., 0., 0., 0., 0., 0., 0.,\n",
              "        0., 0., 0., 0., 0., 0., 0., 0., 0., 0., 0., 0., 0., 0., 0., 0.,\n",
              "        0., 0., 0., 0., 0.]])"
            ]
          },
          "metadata": {
            "tags": []
          },
          "execution_count": 151
        }
      ]
    },
    {
      "cell_type": "code",
      "metadata": {
        "id": "DTifPKXkt1OV",
        "colab_type": "code",
        "colab": {}
      },
      "source": [
        "from sklearn.decomposition import PCA\n",
        "pca = PCA(n_components=7)"
      ],
      "execution_count": 152,
      "outputs": []
    },
    {
      "cell_type": "code",
      "metadata": {
        "id": "I1Ir5qVIu-4w",
        "colab_type": "code",
        "colab": {}
      },
      "source": [
        "dataset_pca = pca.fit_transform(new_dataset)"
      ],
      "execution_count": 161,
      "outputs": []
    },
    {
      "cell_type": "code",
      "metadata": {
        "id": "Id5Wv8oCvIIA",
        "colab_type": "code",
        "colab": {
          "base_uri": "https://localhost:8080/",
          "height": 50
        },
        "outputId": "fec7e66b-15de-49cb-bf31-77a7b2405725"
      },
      "source": [
        "print(pca.explained_variance_ratio_)"
      ],
      "execution_count": 162,
      "outputs": [
        {
          "output_type": "stream",
          "text": [
            "[0.72371349 0.12675138 0.09126131 0.02773591 0.01766794 0.00798425\n",
            " 0.00488572]\n"
          ],
          "name": "stdout"
        }
      ]
    },
    {
      "cell_type": "code",
      "metadata": {
        "id": "LmVP-K_kvP1h",
        "colab_type": "code",
        "colab": {
          "base_uri": "https://localhost:8080/",
          "height": 50
        },
        "outputId": "0d607a58-734e-4b74-dd7f-9e0498631fca"
      },
      "source": [
        "print(pca.singular_values_)"
      ],
      "execution_count": 157,
      "outputs": [
        {
          "output_type": "stream",
          "text": [
            "[36.36240564 15.21758127 12.91256795  7.11853318  5.68148989  3.81932178\n",
            "  2.9876755 ]\n"
          ],
          "name": "stdout"
        }
      ]
    },
    {
      "cell_type": "code",
      "metadata": {
        "id": "XxGR0tErvS_c",
        "colab_type": "code",
        "colab": {
          "base_uri": "https://localhost:8080/",
          "height": 33
        },
        "outputId": "4d9cfd92-5d3f-4932-a860-5dd207a72ac5"
      },
      "source": [
        "np.shape(dataset_pca)"
      ],
      "execution_count": 175,
      "outputs": [
        {
          "output_type": "execute_result",
          "data": {
            "text/plain": [
              "(261, 7)"
            ]
          },
          "metadata": {
            "tags": []
          },
          "execution_count": 175
        }
      ]
    },
    {
      "cell_type": "code",
      "metadata": {
        "id": "3iPZQrI60mLm",
        "colab_type": "code",
        "colab": {
          "base_uri": "https://localhost:8080/",
          "height": 233
        },
        "outputId": "ab14844a-9d5b-4260-8270-c36138f8e76e"
      },
      "source": [
        "dataset_pca"
      ],
      "execution_count": 206,
      "outputs": [
        {
          "output_type": "execute_result",
          "data": {
            "text/plain": [
              "array([[ 3.48521925,  0.5263255 , -0.13973834, ...,  0.08690179,\n",
              "        -0.17920558,  0.07907785],\n",
              "       [-2.17691231, -0.28542399, -1.3046126 , ..., -0.28969849,\n",
              "        -0.04114712, -0.01312739],\n",
              "       [ 2.6849731 ,  1.04694609, -0.73215552, ..., -0.53516815,\n",
              "        -0.07574501,  0.15995575],\n",
              "       ...,\n",
              "       [-0.05384928, -1.58270559, -0.2851369 , ..., -0.30790924,\n",
              "         0.49848823, -0.15274899],\n",
              "       [ 0.78538633,  1.18244612,  0.60971526, ..., -0.20311094,\n",
              "        -0.21777245, -0.1097028 ],\n",
              "       [ 0.54934121, -0.22344808,  0.0834219 , ..., -0.1413986 ,\n",
              "        -0.23267174, -0.22236514]])"
            ]
          },
          "metadata": {
            "tags": []
          },
          "execution_count": 206
        }
      ]
    },
    {
      "cell_type": "code",
      "metadata": {
        "id": "v0W43DuWwxZ7",
        "colab_type": "code",
        "colab": {}
      },
      "source": [
        "dataset_kmeans = dataset_pca[:, :3]"
      ],
      "execution_count": 207,
      "outputs": []
    },
    {
      "cell_type": "code",
      "metadata": {
        "id": "aWUodUxMwBTP",
        "colab_type": "code",
        "colab": {
          "base_uri": "https://localhost:8080/",
          "height": 33
        },
        "outputId": "250163a5-aecc-4f6b-e0ef-cba1347dc5be"
      },
      "source": [
        "from sklearn.cluster import KMeans\n",
        "\n",
        "kmeans = KMeans(n_clusters=3,random_state=42)\n",
        "kmeans.fit(dataset_kmeans)\n",
        "kmeans.inertia_"
      ],
      "execution_count": 208,
      "outputs": [
        {
          "output_type": "execute_result",
          "data": {
            "text/plain": [
              "508.2980434518751"
            ]
          },
          "metadata": {
            "tags": []
          },
          "execution_count": 208
        }
      ]
    },
    {
      "cell_type": "code",
      "metadata": {
        "id": "YlemabfRwp0G",
        "colab_type": "code",
        "colab": {}
      },
      "source": [
        "kmeans = KMeans(n_clusters = 3, random_state = 42);\n",
        "previsoes = kmeans.fit_predict(dataset_kmeans)"
      ],
      "execution_count": 212,
      "outputs": []
    },
    {
      "cell_type": "code",
      "metadata": {
        "id": "2n1-oLOm1atE",
        "colab_type": "code",
        "colab": {
          "base_uri": "https://localhost:8080/",
          "height": 281
        },
        "outputId": "3611436a-f7cf-42b3-82d8-43e77edbcd51"
      },
      "source": [
        "plt.scatter(dataset_kmeans[previsoes == 0, 0], dataset_kmeans[previsoes == 0, 1], s = 100, c = 'red', label = 'Cluster 1')\n",
        "plt.scatter(dataset_kmeans[previsoes == 1, 0], dataset_kmeans[previsoes == 1, 1], s = 100, c = 'orange' , label = 'Cluster 2')\n",
        "plt.scatter(dataset_kmeans[previsoes == 2, 0], dataset_kmeans[previsoes == 2, 1], s = 100, c = 'green', label = 'Cluster 3')\n",
        "plt.legend()"
      ],
      "execution_count": 215,
      "outputs": [
        {
          "output_type": "execute_result",
          "data": {
            "text/plain": [
              "<matplotlib.legend.Legend at 0x7fb51cf91780>"
            ]
          },
          "metadata": {
            "tags": []
          },
          "execution_count": 215
        },
        {
          "output_type": "display_data",
          "data": {
            "image/png": "[encoded data removed]",
            "text/plain": [
              "<Figure size 432x288 with 1 Axes>"
            ]
          },
          "metadata": {
            "tags": [],
            "needs_background": "light"
          }
        }
      ]
    },
    {
      "cell_type": "code",
      "metadata": {
        "id": "XfY03ANj14PY",
        "colab_type": "code",
        "colab": {
          "base_uri": "https://localhost:8080/",
          "height": 33
        },
        "outputId": "e9c18a12-de9f-46df-e8fb-757d77ff112b"
      },
      "source": [
        "len(dataset_kmeans[previsoes == 0, 0])"
      ],
      "execution_count": 218,
      "outputs": [
        {
          "output_type": "execute_result",
          "data": {
            "text/plain": [
              "77"
            ]
          },
          "metadata": {
            "tags": []
          },
          "execution_count": 218
        }
      ]
    },
    {
      "cell_type": "code",
      "metadata": {
        "id": "M8tfjgpd2U7a",
        "colab_type": "code",
        "colab": {
          "base_uri": "https://localhost:8080/",
          "height": 33
        },
        "outputId": "18181354-cb89-40ca-d615-115a4d4b8583"
      },
      "source": [
        "len(dataset_kmeans[previsoes == 2, 1])"
      ],
      "execution_count": 223,
      "outputs": [
        {
          "output_type": "execute_result",
          "data": {
            "text/plain": [
              "109"
            ]
          },
          "metadata": {
            "tags": []
          },
          "execution_count": 223
        }
      ]
    },
    {
      "cell_type": "code",
      "metadata": {
        "id": "QAU_g2ZL2kjQ",
        "colab_type": "code",
        "colab": {
          "base_uri": "https://localhost:8080/",
          "height": 33
        },
        "outputId": "4fe4bb3c-2460-4b5d-80f2-04485fcca1f2"
      },
      "source": [
        "len(dataset_kmeans[previsoes == 1, 1])"
      ],
      "execution_count": 221,
      "outputs": [
        {
          "output_type": "execute_result",
          "data": {
            "text/plain": [
              "75"
            ]
          },
          "metadata": {
            "tags": []
          },
          "execution_count": 221
        }
      ]
    },
    {
      "cell_type": "code",
      "metadata": {
        "id": "fcqaw_9B2pq7",
        "colab_type": "code",
        "colab": {
          "base_uri": "https://localhost:8080/",
          "height": 197
        },
        "outputId": "c599dec9-2d00-40c9-cff4-9e505fe80328"
      },
      "source": [
        "dataset.head()"
      ],
      "execution_count": 224,
      "outputs": [
        {
          "output_type": "execute_result",
          "data": {
            "text/html": [
              "<div>\n",
              "<style scoped>\n",
              "    .dataframe tbody tr th:only-of-type {\n",
              "        vertical-align: middle;\n",
              "    }\n",
              "\n",
              "    .dataframe tbody tr th {\n",
              "        vertical-align: top;\n",
              "    }\n",
              "\n",
              "    .dataframe thead th {\n",
              "        text-align: right;\n",
              "    }\n",
              "</style>\n",
              "<table border=\"1\" class=\"dataframe\">\n",
              "  <thead>\n",
              "    <tr style=\"text-align: right;\">\n",
              "      <th></th>\n",
              "      <th>mpg</th>\n",
              "      <th>cylinders</th>\n",
              "      <th>cubicinches</th>\n",
              "      <th>hp</th>\n",
              "      <th>weightlbs</th>\n",
              "      <th>time-to-60</th>\n",
              "      <th>year</th>\n",
              "      <th>brand</th>\n",
              "    </tr>\n",
              "  </thead>\n",
              "  <tbody>\n",
              "    <tr>\n",
              "      <th>0</th>\n",
              "      <td>14.0</td>\n",
              "      <td>8</td>\n",
              "      <td>350.0</td>\n",
              "      <td>165</td>\n",
              "      <td>4209.0</td>\n",
              "      <td>12</td>\n",
              "      <td>1972</td>\n",
              "      <td>US.</td>\n",
              "    </tr>\n",
              "    <tr>\n",
              "      <th>1</th>\n",
              "      <td>31.9</td>\n",
              "      <td>4</td>\n",
              "      <td>89.0</td>\n",
              "      <td>71</td>\n",
              "      <td>1925.0</td>\n",
              "      <td>14</td>\n",
              "      <td>1980</td>\n",
              "      <td>Europe.</td>\n",
              "    </tr>\n",
              "    <tr>\n",
              "      <th>2</th>\n",
              "      <td>17.0</td>\n",
              "      <td>8</td>\n",
              "      <td>302.0</td>\n",
              "      <td>140</td>\n",
              "      <td>3449.0</td>\n",
              "      <td>11</td>\n",
              "      <td>1971</td>\n",
              "      <td>US.</td>\n",
              "    </tr>\n",
              "    <tr>\n",
              "      <th>3</th>\n",
              "      <td>15.0</td>\n",
              "      <td>8</td>\n",
              "      <td>400.0</td>\n",
              "      <td>150</td>\n",
              "      <td>3761.0</td>\n",
              "      <td>10</td>\n",
              "      <td>1971</td>\n",
              "      <td>US.</td>\n",
              "    </tr>\n",
              "    <tr>\n",
              "      <th>4</th>\n",
              "      <td>30.5</td>\n",
              "      <td>4</td>\n",
              "      <td>98.0</td>\n",
              "      <td>63</td>\n",
              "      <td>2051.0</td>\n",
              "      <td>17</td>\n",
              "      <td>1978</td>\n",
              "      <td>US.</td>\n",
              "    </tr>\n",
              "  </tbody>\n",
              "</table>\n",
              "</div>"
            ],
            "text/plain": [
              "    mpg  cylinders  cubicinches   hp  weightlbs  time-to-60  year     brand\n",
              "0  14.0          8        350.0  165     4209.0          12  1972       US.\n",
              "1  31.9          4         89.0   71     1925.0          14  1980   Europe.\n",
              "2  17.0          8        302.0  140     3449.0          11  1971       US.\n",
              "3  15.0          8        400.0  150     3761.0          10  1971       US.\n",
              "4  30.5          4         98.0   63     2051.0          17  1978       US."
            ]
          },
          "metadata": {
            "tags": []
          },
          "execution_count": 224
        }
      ]
    },
    {
      "cell_type": "code",
      "metadata": {
        "id": "RnnDlMHh8nW1",
        "colab_type": "code",
        "colab": {}
      },
      "source": [
        "dataset_vehicle_efficiency = dataset.loc[:, 'cylinders' : 'time-to-60']"
      ],
      "execution_count": 225,
      "outputs": []
    },
    {
      "cell_type": "code",
      "metadata": {
        "id": "ovESQGa5-Cf9",
        "colab_type": "code",
        "colab": {}
      },
      "source": [
        "vehicle_efficiency_values = []\n",
        "\n",
        "for index, row in dataset.iterrows(): \n",
        "  if row['mpg'] > 25:\n",
        "    vehicle_efficiency_values.append(1) \n",
        "  else:\n",
        "    vehicle_efficiency_values.append(0)\n"
      ],
      "execution_count": 229,
      "outputs": []
    },
    {
      "cell_type": "code",
      "metadata": {
        "id": "MJdSBpadAFoB",
        "colab_type": "code",
        "colab": {
          "base_uri": "https://localhost:8080/",
          "height": 33
        },
        "outputId": "ae49079e-aeb0-4ecd-948a-64a1c4fd3649"
      },
      "source": [
        "vehicle_efficiency_values[:5]"
      ],
      "execution_count": 238,
      "outputs": [
        {
          "output_type": "execute_result",
          "data": {
            "text/plain": [
              "[0, 1, 0, 0, 1]"
            ]
          },
          "metadata": {
            "tags": []
          },
          "execution_count": 238
        }
      ]
    },
    {
      "cell_type": "code",
      "metadata": {
        "id": "txeJVt09-DQi",
        "colab_type": "code",
        "colab": {}
      },
      "source": [
        "dataset_vehicle_efficiency['vehicle_efficiency'] = vehicle_efficiency_values"
      ],
      "execution_count": 231,
      "outputs": []
    },
    {
      "cell_type": "code",
      "metadata": {
        "id": "8m7L5DreAJUc",
        "colab_type": "code",
        "colab": {
          "base_uri": "https://localhost:8080/",
          "height": 197
        },
        "outputId": "97ab3ab2-028a-474b-f3b3-6f6450fddd76"
      },
      "source": [
        "dataset_vehicle_efficiency.head()"
      ],
      "execution_count": 239,
      "outputs": [
        {
          "output_type": "execute_result",
          "data": {
            "text/html": [
              "<div>\n",
              "<style scoped>\n",
              "    .dataframe tbody tr th:only-of-type {\n",
              "        vertical-align: middle;\n",
              "    }\n",
              "\n",
              "    .dataframe tbody tr th {\n",
              "        vertical-align: top;\n",
              "    }\n",
              "\n",
              "    .dataframe thead th {\n",
              "        text-align: right;\n",
              "    }\n",
              "</style>\n",
              "<table border=\"1\" class=\"dataframe\">\n",
              "  <thead>\n",
              "    <tr style=\"text-align: right;\">\n",
              "      <th></th>\n",
              "      <th>cylinders</th>\n",
              "      <th>cubicinches</th>\n",
              "      <th>hp</th>\n",
              "      <th>weightlbs</th>\n",
              "      <th>time-to-60</th>\n",
              "      <th>vehicle_efficiency</th>\n",
              "    </tr>\n",
              "  </thead>\n",
              "  <tbody>\n",
              "    <tr>\n",
              "      <th>0</th>\n",
              "      <td>8</td>\n",
              "      <td>350.0</td>\n",
              "      <td>165</td>\n",
              "      <td>4209.0</td>\n",
              "      <td>12</td>\n",
              "      <td>0</td>\n",
              "    </tr>\n",
              "    <tr>\n",
              "      <th>1</th>\n",
              "      <td>4</td>\n",
              "      <td>89.0</td>\n",
              "      <td>71</td>\n",
              "      <td>1925.0</td>\n",
              "      <td>14</td>\n",
              "      <td>1</td>\n",
              "    </tr>\n",
              "    <tr>\n",
              "      <th>2</th>\n",
              "      <td>8</td>\n",
              "      <td>302.0</td>\n",
              "      <td>140</td>\n",
              "      <td>3449.0</td>\n",
              "      <td>11</td>\n",
              "      <td>0</td>\n",
              "    </tr>\n",
              "    <tr>\n",
              "      <th>3</th>\n",
              "      <td>8</td>\n",
              "      <td>400.0</td>\n",
              "      <td>150</td>\n",
              "      <td>3761.0</td>\n",
              "      <td>10</td>\n",
              "      <td>0</td>\n",
              "    </tr>\n",
              "    <tr>\n",
              "      <th>4</th>\n",
              "      <td>4</td>\n",
              "      <td>98.0</td>\n",
              "      <td>63</td>\n",
              "      <td>2051.0</td>\n",
              "      <td>17</td>\n",
              "      <td>1</td>\n",
              "    </tr>\n",
              "  </tbody>\n",
              "</table>\n",
              "</div>"
            ],
            "text/plain": [
              "   cylinders  cubicinches   hp  weightlbs  time-to-60  vehicle_efficiency\n",
              "0          8        350.0  165     4209.0          12                   0\n",
              "1          4         89.0   71     1925.0          14                   1\n",
              "2          8        302.0  140     3449.0          11                   0\n",
              "3          8        400.0  150     3761.0          10                   0\n",
              "4          4         98.0   63     2051.0          17                   1"
            ]
          },
          "metadata": {
            "tags": []
          },
          "execution_count": 239
        }
      ]
    },
    {
      "cell_type": "code",
      "metadata": {
        "id": "qJzAzhJEALs2",
        "colab_type": "code",
        "colab": {
          "base_uri": "https://localhost:8080/",
          "height": 197
        },
        "outputId": "08e1dc58-cd39-45e4-8861-cf216eb2920a"
      },
      "source": [
        "dataset.head()"
      ],
      "execution_count": 240,
      "outputs": [
        {
          "output_type": "execute_result",
          "data": {
            "text/html": [
              "<div>\n",
              "<style scoped>\n",
              "    .dataframe tbody tr th:only-of-type {\n",
              "        vertical-align: middle;\n",
              "    }\n",
              "\n",
              "    .dataframe tbody tr th {\n",
              "        vertical-align: top;\n",
              "    }\n",
              "\n",
              "    .dataframe thead th {\n",
              "        text-align: right;\n",
              "    }\n",
              "</style>\n",
              "<table border=\"1\" class=\"dataframe\">\n",
              "  <thead>\n",
              "    <tr style=\"text-align: right;\">\n",
              "      <th></th>\n",
              "      <th>mpg</th>\n",
              "      <th>cylinders</th>\n",
              "      <th>cubicinches</th>\n",
              "      <th>hp</th>\n",
              "      <th>weightlbs</th>\n",
              "      <th>time-to-60</th>\n",
              "      <th>year</th>\n",
              "      <th>brand</th>\n",
              "    </tr>\n",
              "  </thead>\n",
              "  <tbody>\n",
              "    <tr>\n",
              "      <th>0</th>\n",
              "      <td>14.0</td>\n",
              "      <td>8</td>\n",
              "      <td>350.0</td>\n",
              "      <td>165</td>\n",
              "      <td>4209.0</td>\n",
              "      <td>12</td>\n",
              "      <td>1972</td>\n",
              "      <td>US.</td>\n",
              "    </tr>\n",
              "    <tr>\n",
              "      <th>1</th>\n",
              "      <td>31.9</td>\n",
              "      <td>4</td>\n",
              "      <td>89.0</td>\n",
              "      <td>71</td>\n",
              "      <td>1925.0</td>\n",
              "      <td>14</td>\n",
              "      <td>1980</td>\n",
              "      <td>Europe.</td>\n",
              "    </tr>\n",
              "    <tr>\n",
              "      <th>2</th>\n",
              "      <td>17.0</td>\n",
              "      <td>8</td>\n",
              "      <td>302.0</td>\n",
              "      <td>140</td>\n",
              "      <td>3449.0</td>\n",
              "      <td>11</td>\n",
              "      <td>1971</td>\n",
              "      <td>US.</td>\n",
              "    </tr>\n",
              "    <tr>\n",
              "      <th>3</th>\n",
              "      <td>15.0</td>\n",
              "      <td>8</td>\n",
              "      <td>400.0</td>\n",
              "      <td>150</td>\n",
              "      <td>3761.0</td>\n",
              "      <td>10</td>\n",
              "      <td>1971</td>\n",
              "      <td>US.</td>\n",
              "    </tr>\n",
              "    <tr>\n",
              "      <th>4</th>\n",
              "      <td>30.5</td>\n",
              "      <td>4</td>\n",
              "      <td>98.0</td>\n",
              "      <td>63</td>\n",
              "      <td>2051.0</td>\n",
              "      <td>17</td>\n",
              "      <td>1978</td>\n",
              "      <td>US.</td>\n",
              "    </tr>\n",
              "  </tbody>\n",
              "</table>\n",
              "</div>"
            ],
            "text/plain": [
              "    mpg  cylinders  cubicinches   hp  weightlbs  time-to-60  year     brand\n",
              "0  14.0          8        350.0  165     4209.0          12  1972       US.\n",
              "1  31.9          4         89.0   71     1925.0          14  1980   Europe.\n",
              "2  17.0          8        302.0  140     3449.0          11  1971       US.\n",
              "3  15.0          8        400.0  150     3761.0          10  1971       US.\n",
              "4  30.5          4         98.0   63     2051.0          17  1978       US."
            ]
          },
          "metadata": {
            "tags": []
          },
          "execution_count": 240
        }
      ]
    },
    {
      "cell_type": "code",
      "metadata": {
        "id": "TJhh34JXAPYd",
        "colab_type": "code",
        "colab": {}
      },
      "source": [
        "entradas_arvore = normaliza.fit_transform(dataset_vehicle_efficiency.loc[:, 'cylinders': 'time-to-60'])"
      ],
      "execution_count": 243,
      "outputs": []
    },
    {
      "cell_type": "code",
      "metadata": {
        "id": "9T7bYQBrGWDA",
        "colab_type": "code",
        "colab": {
          "base_uri": "https://localhost:8080/",
          "height": 133
        },
        "outputId": "00c57279-d6b3-44c7-889b-e26496826295"
      },
      "source": [
        "entradas_arvore"
      ],
      "execution_count": 266,
      "outputs": [
        {
          "output_type": "execute_result",
          "data": {
            "text/plain": [
              "array([[ 1.39305285,  1.37239295,  1.45068065,  1.41499703, -1.22128734],\n",
              "       [-0.91910482, -1.03028992, -0.87476849, -1.28008557, -0.53282946],\n",
              "       [ 1.39305285,  0.93052024,  0.83221013,  0.51820947, -1.56551627],\n",
              "       ...,\n",
              "       [ 0.23697401,  0.28612253,  0.13952316, -0.20630047, -0.18860053],\n",
              "       [ 0.23697401,  0.28612253, -0.15734269,  0.32823211,  0.15562841],\n",
              "       [ 0.23697401,  0.4518248 , -0.03364859,  0.40493105, -0.18860053]])"
            ]
          },
          "metadata": {
            "tags": []
          },
          "execution_count": 266
        }
      ]
    },
    {
      "cell_type": "code",
      "metadata": {
        "id": "5Wzo4i9eG0xl",
        "colab_type": "code",
        "colab": {
          "base_uri": "https://localhost:8080/",
          "height": 33
        },
        "outputId": "dfe1d6da-9557-424b-9662-5ab9973629b8"
      },
      "source": [
        "np.shape(entradas_arvore)"
      ],
      "execution_count": 270,
      "outputs": [
        {
          "output_type": "execute_result",
          "data": {
            "text/plain": [
              "(261, 5)"
            ]
          },
          "metadata": {
            "tags": []
          },
          "execution_count": 270
        }
      ]
    },
    {
      "cell_type": "code",
      "metadata": {
        "id": "JUrRYbOHFMwb",
        "colab_type": "code",
        "colab": {
          "base_uri": "https://localhost:8080/",
          "height": 197
        },
        "outputId": "46b09b84-6109-484a-c8bf-b86a8feb5c4e"
      },
      "source": [
        "entradas_arvore_questao_10 = pd.DataFrame(entradas_arvore, columns=['cylinders', 'cubicinches', 'hp', 'weightlbs', 'time-to-60']) \n",
        "entradas_arvore_questao_10.head()"
      ],
      "execution_count": 275,
      "outputs": [
        {
          "output_type": "execute_result",
          "data": {
            "text/html": [
              "<div>\n",
              "<style scoped>\n",
              "    .dataframe tbody tr th:only-of-type {\n",
              "        vertical-align: middle;\n",
              "    }\n",
              "\n",
              "    .dataframe tbody tr th {\n",
              "        vertical-align: top;\n",
              "    }\n",
              "\n",
              "    .dataframe thead th {\n",
              "        text-align: right;\n",
              "    }\n",
              "</style>\n",
              "<table border=\"1\" class=\"dataframe\">\n",
              "  <thead>\n",
              "    <tr style=\"text-align: right;\">\n",
              "      <th></th>\n",
              "      <th>cylinders</th>\n",
              "      <th>cubicinches</th>\n",
              "      <th>hp</th>\n",
              "      <th>weightlbs</th>\n",
              "      <th>time-to-60</th>\n",
              "    </tr>\n",
              "  </thead>\n",
              "  <tbody>\n",
              "    <tr>\n",
              "      <th>0</th>\n",
              "      <td>1.393053</td>\n",
              "      <td>1.372393</td>\n",
              "      <td>1.450681</td>\n",
              "      <td>1.414997</td>\n",
              "      <td>-1.221287</td>\n",
              "    </tr>\n",
              "    <tr>\n",
              "      <th>1</th>\n",
              "      <td>-0.919105</td>\n",
              "      <td>-1.030290</td>\n",
              "      <td>-0.874768</td>\n",
              "      <td>-1.280086</td>\n",
              "      <td>-0.532829</td>\n",
              "    </tr>\n",
              "    <tr>\n",
              "      <th>2</th>\n",
              "      <td>1.393053</td>\n",
              "      <td>0.930520</td>\n",
              "      <td>0.832210</td>\n",
              "      <td>0.518209</td>\n",
              "      <td>-1.565516</td>\n",
              "    </tr>\n",
              "    <tr>\n",
              "      <th>3</th>\n",
              "      <td>1.393053</td>\n",
              "      <td>1.832677</td>\n",
              "      <td>1.079598</td>\n",
              "      <td>0.886364</td>\n",
              "      <td>-1.909745</td>\n",
              "    </tr>\n",
              "    <tr>\n",
              "      <th>4</th>\n",
              "      <td>-0.919105</td>\n",
              "      <td>-0.947439</td>\n",
              "      <td>-1.072679</td>\n",
              "      <td>-1.131408</td>\n",
              "      <td>0.499857</td>\n",
              "    </tr>\n",
              "  </tbody>\n",
              "</table>\n",
              "</div>"
            ],
            "text/plain": [
              "   cylinders  cubicinches        hp  weightlbs  time-to-60\n",
              "0   1.393053     1.372393  1.450681   1.414997   -1.221287\n",
              "1  -0.919105    -1.030290 -0.874768  -1.280086   -0.532829\n",
              "2   1.393053     0.930520  0.832210   0.518209   -1.565516\n",
              "3   1.393053     1.832677  1.079598   0.886364   -1.909745\n",
              "4  -0.919105    -0.947439 -1.072679  -1.131408    0.499857"
            ]
          },
          "metadata": {
            "tags": []
          },
          "execution_count": 275
        }
      ]
    },
    {
      "cell_type": "code",
      "metadata": {
        "id": "FUkWO6LZHXX1",
        "colab_type": "code",
        "colab": {
          "base_uri": "https://localhost:8080/",
          "height": 33
        },
        "outputId": "7aa56d5b-a461-4864-9056-739febeed6f2"
      },
      "source": [
        "entradas_arvore_questao_10['hp'].max()"
      ],
      "execution_count": 276,
      "outputs": [
        {
          "output_type": "execute_result",
          "data": {
            "text/plain": [
              "3.05870398977614"
            ]
          },
          "metadata": {
            "tags": []
          },
          "execution_count": 276
        }
      ]
    },
    {
      "cell_type": "code",
      "metadata": {
        "id": "fEYkcz7hBmVm",
        "colab_type": "code",
        "colab": {}
      },
      "source": [
        "saidas_arvore = dataset_vehicle_efficiency.loc[:, 'vehicle_efficiency']"
      ],
      "execution_count": 244,
      "outputs": []
    },
    {
      "cell_type": "code",
      "metadata": {
        "id": "vVWznTkrA5Mp",
        "colab_type": "code",
        "colab": {}
      },
      "source": [
        "from sklearn.model_selection import train_test_split\n",
        "\n",
        "previsores_treinamento, previsores_teste, classe_treinamento, classe_teste = train_test_split(entradas_arvore, \n",
        "                                                                                              saidas_arvore, \n",
        "                                                                                              test_size=0.30, \n",
        "                                                                                              random_state=42)"
      ],
      "execution_count": 245,
      "outputs": []
    },
    {
      "cell_type": "code",
      "metadata": {
        "id": "i2KoXY49A7Pf",
        "colab_type": "code",
        "colab": {
          "base_uri": "https://localhost:8080/",
          "height": 116
        },
        "outputId": "5a657b7c-abdb-4ce5-afcd-c2cd717332e8"
      },
      "source": [
        "from sklearn.tree import DecisionTreeClassifier\n",
        "from sklearn.metrics import confusion_matrix, accuracy_score\n",
        "\n",
        "classificador = DecisionTreeClassifier(random_state=42)\n",
        "classificador.fit(previsores_treinamento, classe_treinamento)"
      ],
      "execution_count": 248,
      "outputs": [
        {
          "output_type": "execute_result",
          "data": {
            "text/plain": [
              "DecisionTreeClassifier(ccp_alpha=0.0, class_weight=None, criterion='gini',\n",
              "                       max_depth=None, max_features=None, max_leaf_nodes=None,\n",
              "                       min_impurity_decrease=0.0, min_impurity_split=None,\n",
              "                       min_samples_leaf=1, min_samples_split=2,\n",
              "                       min_weight_fraction_leaf=0.0, presort='deprecated',\n",
              "                       random_state=42, splitter='best')"
            ]
          },
          "metadata": {
            "tags": []
          },
          "execution_count": 248
        }
      ]
    },
    {
      "cell_type": "code",
      "metadata": {
        "id": "fOZZTnzuB3Vh",
        "colab_type": "code",
        "colab": {}
      },
      "source": [
        "previsoes = classificador.predict(previsores_teste)"
      ],
      "execution_count": 249,
      "outputs": []
    },
    {
      "cell_type": "code",
      "metadata": {
        "id": "Vawr-eoMCP9x",
        "colab_type": "code",
        "colab": {
          "base_uri": "https://localhost:8080/",
          "height": 33
        },
        "outputId": "8a329ef9-96d9-43dc-f9e4-488c30ee8db3"
      },
      "source": [
        "precisao = accuracy_score(classe_teste, previsoes)\n",
        "precisao"
      ],
      "execution_count": 250,
      "outputs": [
        {
          "output_type": "execute_result",
          "data": {
            "text/plain": [
              "0.8734177215189873"
            ]
          },
          "metadata": {
            "tags": []
          },
          "execution_count": 250
        }
      ]
    },
    {
      "cell_type": "code",
      "metadata": {
        "id": "z9gn3E8YCNwn",
        "colab_type": "code",
        "colab": {
          "base_uri": "https://localhost:8080/",
          "height": 244
        },
        "outputId": "90e6b0d7-c8a7-4b0f-c7de-359d390b0bcf"
      },
      "source": [
        "import seaborn as sn\n",
        "matriz = confusion_matrix(classe_teste, previsoes)\n",
        "\n",
        "plt.figure(figsize=(5, 3))\n",
        "sn.heatmap(matriz, annot=True)\n",
        "plt.show()"
      ],
      "execution_count": 253,
      "outputs": [
        {
          "output_type": "stream",
          "text": [
            "/usr/local/lib/python3.6/dist-packages/statsmodels/tools/_testing.py:19: FutureWarning: pandas.util.testing is deprecated. Use the functions in the public API at pandas.testing instead.\n",
            "  import pandas.util.testing as tm\n"
          ],
          "name": "stderr"
        },
        {
          "output_type": "display_data",
          "data": {
            "image/png": "[encoded data removed]",
            "text/plain": [
              "<Figure size 360x216 with 2 Axes>"
            ]
          },
          "metadata": {
            "tags": [],
            "needs_background": "light"
          }
        }
      ]
    },
    {
      "cell_type": "code",
      "metadata": {
        "id": "vuXGjkv_CXil",
        "colab_type": "code",
        "colab": {}
      },
      "source": [
        "from sklearn.linear_model import LogisticRegression\n",
        "\n",
        "classificador = LogisticRegression(random_state=42)\n",
        "classificador.fit(previsores_treinamento, classe_treinamento)\n",
        "previsoes = classificador.predict(previsores_teste)"
      ],
      "execution_count": 254,
      "outputs": []
    },
    {
      "cell_type": "code",
      "metadata": {
        "id": "Ut9j4rehEOOB",
        "colab_type": "code",
        "colab": {
          "base_uri": "https://localhost:8080/",
          "height": 33
        },
        "outputId": "83ce7a89-3da3-4403-9b7f-d1ff98959d65"
      },
      "source": [
        "from sklearn.metrics import confusion_matrix, accuracy_score\n",
        "precisao = accuracy_score(classe_teste, previsoes)\n",
        "precisao"
      ],
      "execution_count": 258,
      "outputs": [
        {
          "output_type": "execute_result",
          "data": {
            "text/plain": [
              "0.8607594936708861"
            ]
          },
          "metadata": {
            "tags": []
          },
          "execution_count": 258
        }
      ]
    },
    {
      "cell_type": "code",
      "metadata": {
        "id": "iI0l8v2BEQ0M",
        "colab_type": "code",
        "colab": {
          "base_uri": "https://localhost:8080/",
          "height": 211
        },
        "outputId": "691ce917-bf8b-4f27-ee58-ead4c4fffe39"
      },
      "source": [
        "matriz = confusion_matrix(classe_teste, previsoes)\n",
        "\n",
        "plt.figure(figsize=(5, 3))\n",
        "sn.heatmap(matriz, annot=True)\n",
        "plt.show()"
      ],
      "execution_count": 259,
      "outputs": [
        {
          "output_type": "display_data",
          "data": {
            "image/png": "[encoded data removed]",
            "text/plain": [
              "<Figure size 360x216 with 2 Axes>"
            ]
          },
          "metadata": {
            "tags": [],
            "needs_background": "light"
          }
        }
      ]
    },
    {
      "cell_type": "code",
      "metadata": {
        "id": "OysR4fusESqq",
        "colab_type": "code",
        "colab": {
          "base_uri": "https://localhost:8080/",
          "height": 33
        },
        "outputId": "ed4c6bb4-d20b-494d-9cce-3dce2ac5ad85"
      },
      "source": [
        "import collections \n",
        "#Válido para compreender qual o percentual esperado de acuracidade e determinar\n",
        "#qual classificador é melhor para tal problema \n",
        "print(collections.Counter(classe_teste))"
      ],
      "execution_count": 257,
      "outputs": [
        {
          "output_type": "stream",
          "text": [
            "Counter({0: 41, 1: 38})\n"
          ],
          "name": "stdout"
        }
      ]
    },
    {
      "cell_type": "code",
      "metadata": {
        "id": "8WTMnm9WEbV5",
        "colab_type": "code",
        "colab": {}
      },
      "source": [
        ""
      ],
      "execution_count": null,
      "outputs": []
    }
  ]
}